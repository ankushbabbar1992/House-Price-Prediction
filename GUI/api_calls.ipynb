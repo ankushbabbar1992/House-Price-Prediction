{
 "cells": [
  {
   "cell_type": "markdown",
   "id": "e4d2077c",
   "metadata": {},
   "source": [
    "# Helps GUI in fetching data from API"
   ]
  },
  {
   "cell_type": "code",
   "execution_count": 2,
   "id": "49839d12",
   "metadata": {},
   "outputs": [],
   "source": [
    "#importing required libraries\n",
    "import requests\n",
    "import time\n",
    "import pandas as pd\n"
   ]
  },
  {
   "cell_type": "code",
   "execution_count": 3,
   "id": "b822a418",
   "metadata": {},
   "outputs": [],
   "source": [
    "#importing dataset \n",
    "df_post = pd.read_excel(r'C:/Users/hp/dissertation/Datasets/area_codes.xlsx')"
   ]
  },
  {
   "cell_type": "code",
   "execution_count": 3,
   "id": "4f7d81f2",
   "metadata": {},
   "outputs": [],
   "source": [
    "#function to return bedroom prices as per the location passed through API\n",
    "def get_bed_prices(location):\n",
    "    \n",
    "    postcodes = df_post.postcode[df_post.AreaName==location].unique()\n",
    "    records =[]\n",
    "    for bed,postcode in zip(range(2,6),postcodes):\n",
    "        response = requests.get('https://api.propertydata.co.uk/prices?key=L1SGXGR1LQ&postcode={}&bedrooms={}'.format(postcode,bed))\n",
    "        data = response.json()\n",
    "        if data['status']=='error':\n",
    "            continue\n",
    "        elif data['status']== 'success':\n",
    "            for row in data['data']['raw_data']:\n",
    "                records.append(row)\n",
    "        time.sleep(5)\n",
    "    df = pd.DataFrame.from_dict(records, orient='columns')  \n",
    "    return df\n",
    "   "
   ]
  },
  {
   "cell_type": "code",
   "execution_count": 4,
   "id": "e2abcf5a",
   "metadata": {},
   "outputs": [],
   "source": [
    "#function to return crime data as per the location passed through API\n",
    "def get_crime_data(location):\n",
    "    postcodes = df_post.postcode[df_post.AreaName==location].unique()\n",
    "    records =[]\n",
    "    for postcode in postcodes:\n",
    "        response = requests.get('https://api.propertydata.co.uk/crime?key=L1SGXGR1LQ&postcode={}'.format(postcode))\n",
    "        data = response.json()\n",
    "        if data['status']=='error':\n",
    "            continue\n",
    "        elif data['status']== 'success':\n",
    "            records.append((postcode,data['crimes_last_12m'],data['population'],data['crime_rating'],data['crimes_per_thousand']))\n",
    "        time.sleep(5)\n",
    "    df = pd.DataFrame.from_dict(records, orient='columns')  \n",
    "    return df"
   ]
  },
  {
   "cell_type": "code",
   "execution_count": 5,
   "id": "4da63c40",
   "metadata": {},
   "outputs": [],
   "source": [
    "#function created to speed up the GUI after calling the bedroom api for all cities\n",
    "def get_bed_prices1(location):\n",
    "    df = pd.read_csv(r'C:/Users/hp/dissertation/Bedroom_Data/{}_Bed.csv'.format(location))\n",
    "    return df"
   ]
  },
  {
   "cell_type": "code",
   "execution_count": 6,
   "id": "7f587a88",
   "metadata": {},
   "outputs": [],
   "source": [
    "#function created to speed up the GUI after calling the crime data api for all cities\n",
    "def get_crime_data1(location):\n",
    "    df = pd.read_csv('C:/Users/hp/dissertation/Crime_Data/{}_crime.csv'.format(location))\n",
    "    return df"
   ]
  }
 ],
 "metadata": {
  "kernelspec": {
   "display_name": "Python 3 (ipykernel)",
   "language": "python",
   "name": "python3"
  },
  "language_info": {
   "codemirror_mode": {
    "name": "ipython",
    "version": 3
   },
   "file_extension": ".py",
   "mimetype": "text/x-python",
   "name": "python",
   "nbconvert_exporter": "python",
   "pygments_lexer": "ipython3",
   "version": "3.9.7"
  }
 },
 "nbformat": 4,
 "nbformat_minor": 5
}
