{
 "cells": [
  {
   "cell_type": "markdown",
   "id": "9e34373f",
   "metadata": {},
   "source": [
    "# Predicting the House Price Index using Machine Learning Model"
   ]
  },
  {
   "cell_type": "markdown",
   "id": "c23670f8",
   "metadata": {},
   "source": [
    "## Using LSTM Model "
   ]
  },
  {
   "cell_type": "code",
   "execution_count": 1,
   "id": "67c5e88b",
   "metadata": {},
   "outputs": [],
   "source": [
    "#importing various libraries\n",
    "import pandas as pd\n",
    "import numpy as np\n",
    "import seaborn as sns\n",
    "import matplotlib.pyplot as plt\n",
    "from sklearn.preprocessing import MinMaxScaler\n",
    "from tensorflow.keras.models import Sequential\n",
    "from tensorflow.keras.layers import Dense, Dropout\n",
    "from tensorflow.keras.layers import LSTM\n",
    "import math\n",
    "from sklearn.metrics import mean_squared_error"
   ]
  },
  {
   "cell_type": "code",
   "execution_count": 2,
   "id": "c99e7d7c",
   "metadata": {},
   "outputs": [
    {
     "data": {
      "text/html": [
       "<div>\n",
       "<style scoped>\n",
       "    .dataframe tbody tr th:only-of-type {\n",
       "        vertical-align: middle;\n",
       "    }\n",
       "\n",
       "    .dataframe tbody tr th {\n",
       "        vertical-align: top;\n",
       "    }\n",
       "\n",
       "    .dataframe thead th {\n",
       "        text-align: right;\n",
       "    }\n",
       "</style>\n",
       "<table border=\"1\" class=\"dataframe\">\n",
       "  <thead>\n",
       "    <tr style=\"text-align: right;\">\n",
       "      <th></th>\n",
       "      <th>Date</th>\n",
       "      <th>Region_Name</th>\n",
       "      <th>Area_Code</th>\n",
       "      <th>Index</th>\n",
       "    </tr>\n",
       "  </thead>\n",
       "  <tbody>\n",
       "    <tr>\n",
       "      <th>0</th>\n",
       "      <td>1968-04-01</td>\n",
       "      <td>England</td>\n",
       "      <td>E92000001</td>\n",
       "      <td>1.680067</td>\n",
       "    </tr>\n",
       "    <tr>\n",
       "      <th>1</th>\n",
       "      <td>1968-04-01</td>\n",
       "      <td>Scotland</td>\n",
       "      <td>S92000003</td>\n",
       "      <td>2.108087</td>\n",
       "    </tr>\n",
       "    <tr>\n",
       "      <th>2</th>\n",
       "      <td>1968-04-01</td>\n",
       "      <td>Northern Ireland</td>\n",
       "      <td>N92000001</td>\n",
       "      <td>3.300420</td>\n",
       "    </tr>\n",
       "    <tr>\n",
       "      <th>3</th>\n",
       "      <td>1968-04-01</td>\n",
       "      <td>Wales</td>\n",
       "      <td>W92000004</td>\n",
       "      <td>2.119327</td>\n",
       "    </tr>\n",
       "    <tr>\n",
       "      <th>4</th>\n",
       "      <td>1968-04-01</td>\n",
       "      <td>West Midlands Region</td>\n",
       "      <td>E12000005</td>\n",
       "      <td>2.097808</td>\n",
       "    </tr>\n",
       "  </tbody>\n",
       "</table>\n",
       "</div>"
      ],
      "text/plain": [
       "         Date           Region_Name  Area_Code     Index\n",
       "0  1968-04-01               England  E92000001  1.680067\n",
       "1  1968-04-01              Scotland  S92000003  2.108087\n",
       "2  1968-04-01      Northern Ireland  N92000001  3.300420\n",
       "3  1968-04-01                 Wales  W92000004  2.119327\n",
       "4  1968-04-01  West Midlands Region  E12000005  2.097808"
      ]
     },
     "execution_count": 2,
     "metadata": {},
     "output_type": "execute_result"
    }
   ],
   "source": [
    "#importing the dataset\n",
    "df = pd.read_csv(r'C:/Users/hp/dissertation/Datasets/Indices-2022-05_ONS.csv')\n",
    "df.head()"
   ]
  },
  {
   "cell_type": "code",
   "execution_count": 3,
   "id": "bf7d36b4",
   "metadata": {},
   "outputs": [
    {
     "data": {
      "text/html": [
       "<div>\n",
       "<style scoped>\n",
       "    .dataframe tbody tr th:only-of-type {\n",
       "        vertical-align: middle;\n",
       "    }\n",
       "\n",
       "    .dataframe tbody tr th {\n",
       "        vertical-align: top;\n",
       "    }\n",
       "\n",
       "    .dataframe thead th {\n",
       "        text-align: right;\n",
       "    }\n",
       "</style>\n",
       "<table border=\"1\" class=\"dataframe\">\n",
       "  <thead>\n",
       "    <tr style=\"text-align: right;\">\n",
       "      <th></th>\n",
       "      <th>Date</th>\n",
       "      <th>Region_Name</th>\n",
       "      <th>Area_Code</th>\n",
       "      <th>Index</th>\n",
       "    </tr>\n",
       "  </thead>\n",
       "  <tbody>\n",
       "    <tr>\n",
       "      <th>9</th>\n",
       "      <td>1968-04-01</td>\n",
       "      <td>United Kingdom</td>\n",
       "      <td>K02000001</td>\n",
       "      <td>1.885299</td>\n",
       "    </tr>\n",
       "    <tr>\n",
       "      <th>19</th>\n",
       "      <td>1968-05-01</td>\n",
       "      <td>United Kingdom</td>\n",
       "      <td>K02000001</td>\n",
       "      <td>1.885299</td>\n",
       "    </tr>\n",
       "    <tr>\n",
       "      <th>29</th>\n",
       "      <td>1968-06-01</td>\n",
       "      <td>United Kingdom</td>\n",
       "      <td>K02000001</td>\n",
       "      <td>1.885299</td>\n",
       "    </tr>\n",
       "    <tr>\n",
       "      <th>39</th>\n",
       "      <td>1968-07-01</td>\n",
       "      <td>United Kingdom</td>\n",
       "      <td>K02000001</td>\n",
       "      <td>1.949207</td>\n",
       "    </tr>\n",
       "    <tr>\n",
       "      <th>49</th>\n",
       "      <td>1968-08-01</td>\n",
       "      <td>United Kingdom</td>\n",
       "      <td>K02000001</td>\n",
       "      <td>1.949207</td>\n",
       "    </tr>\n",
       "  </tbody>\n",
       "</table>\n",
       "</div>"
      ],
      "text/plain": [
       "          Date     Region_Name  Area_Code     Index\n",
       "9   1968-04-01  United Kingdom  K02000001  1.885299\n",
       "19  1968-05-01  United Kingdom  K02000001  1.885299\n",
       "29  1968-06-01  United Kingdom  K02000001  1.885299\n",
       "39  1968-07-01  United Kingdom  K02000001  1.949207\n",
       "49  1968-08-01  United Kingdom  K02000001  1.949207"
      ]
     },
     "execution_count": 3,
     "metadata": {},
     "output_type": "execute_result"
    }
   ],
   "source": [
    "# Since there are different regions , thus selecting region as UK\n",
    "df = df[df.Region_Name=='United Kingdom']\n",
    "df.head()"
   ]
  },
  {
   "cell_type": "code",
   "execution_count": 4,
   "id": "a9ff7f87",
   "metadata": {},
   "outputs": [
    {
     "data": {
      "text/html": [
       "<div>\n",
       "<style scoped>\n",
       "    .dataframe tbody tr th:only-of-type {\n",
       "        vertical-align: middle;\n",
       "    }\n",
       "\n",
       "    .dataframe tbody tr th {\n",
       "        vertical-align: top;\n",
       "    }\n",
       "\n",
       "    .dataframe thead th {\n",
       "        text-align: right;\n",
       "    }\n",
       "</style>\n",
       "<table border=\"1\" class=\"dataframe\">\n",
       "  <thead>\n",
       "    <tr style=\"text-align: right;\">\n",
       "      <th></th>\n",
       "      <th>Date</th>\n",
       "      <th>Index</th>\n",
       "    </tr>\n",
       "  </thead>\n",
       "  <tbody>\n",
       "    <tr>\n",
       "      <th>9</th>\n",
       "      <td>1968-04-01</td>\n",
       "      <td>1.885299</td>\n",
       "    </tr>\n",
       "    <tr>\n",
       "      <th>19</th>\n",
       "      <td>1968-05-01</td>\n",
       "      <td>1.885299</td>\n",
       "    </tr>\n",
       "    <tr>\n",
       "      <th>29</th>\n",
       "      <td>1968-06-01</td>\n",
       "      <td>1.885299</td>\n",
       "    </tr>\n",
       "    <tr>\n",
       "      <th>39</th>\n",
       "      <td>1968-07-01</td>\n",
       "      <td>1.949207</td>\n",
       "    </tr>\n",
       "    <tr>\n",
       "      <th>49</th>\n",
       "      <td>1968-08-01</td>\n",
       "      <td>1.949207</td>\n",
       "    </tr>\n",
       "  </tbody>\n",
       "</table>\n",
       "</div>"
      ],
      "text/plain": [
       "          Date     Index\n",
       "9   1968-04-01  1.885299\n",
       "19  1968-05-01  1.885299\n",
       "29  1968-06-01  1.885299\n",
       "39  1968-07-01  1.949207\n",
       "49  1968-08-01  1.949207"
      ]
     },
     "execution_count": 4,
     "metadata": {},
     "output_type": "execute_result"
    }
   ],
   "source": [
    "#Dropping the area code column and region name as it is not required\n",
    "df.drop(['Area_Code','Region_Name'],axis=1,inplace=True)\n",
    "df.head()"
   ]
  },
  {
   "cell_type": "code",
   "execution_count": 5,
   "id": "e5bff21d",
   "metadata": {},
   "outputs": [
    {
     "data": {
      "text/plain": [
       "Date      object\n",
       "Index    float64\n",
       "dtype: object"
      ]
     },
     "execution_count": 5,
     "metadata": {},
     "output_type": "execute_result"
    }
   ],
   "source": [
    "#checking the datatypes\n",
    "df.dtypes"
   ]
  },
  {
   "cell_type": "code",
   "execution_count": 6,
   "id": "184b9107",
   "metadata": {},
   "outputs": [
    {
     "data": {
      "text/plain": [
       "(650, 2)"
      ]
     },
     "execution_count": 6,
     "metadata": {},
     "output_type": "execute_result"
    }
   ],
   "source": [
    "#checking the length of records\n",
    "df.shape"
   ]
  },
  {
   "cell_type": "code",
   "execution_count": 7,
   "id": "09636647",
   "metadata": {},
   "outputs": [
    {
     "name": "stdout",
     "output_type": "stream",
     "text": [
      "Starting of the dataset : 1968-04-01\n",
      "Ending of the dataset : 2022-05-01\n"
     ]
    }
   ],
   "source": [
    "#checking the to and from dates :\n",
    "print(\"Starting of the dataset :\",df.Date.min())\n",
    "print(\"Ending of the dataset :\",df.Date.max())"
   ]
  },
  {
   "cell_type": "code",
   "execution_count": 8,
   "id": "7cefc580",
   "metadata": {},
   "outputs": [
    {
     "data": {
      "text/plain": [
       "Text(0.5, 1.0, 'HPI Index(1968-2022)')"
      ]
     },
     "execution_count": 8,
     "metadata": {},
     "output_type": "execute_result"
    },
    {
     "data": {
      "image/png": "[encoded data removed]",
      "text/plain": [
       "<Figure size 1152x576 with 1 Axes>"
      ]
     },
     "metadata": {},
     "output_type": "display_data"
    }
   ],
   "source": [
    "#plotting the data series\n",
    "\n",
    "sns.set(rc={'figure.figsize':(16,8)})\n",
    "sns.lineplot(data=df , x='Date',y='Index')\n",
    "plt.title(\"HPI Index(1968-2022)\")"
   ]
  },
  {
   "cell_type": "code",
   "execution_count": 9,
   "id": "09663066",
   "metadata": {},
   "outputs": [],
   "source": [
    "#only saving the index values of HPI\n",
    "df =df['Index']"
   ]
  },
  {
   "cell_type": "code",
   "execution_count": 10,
   "id": "980238be",
   "metadata": {},
   "outputs": [
    {
     "data": {
      "text/plain": [
       "9           1.885299\n",
       "19          1.885299\n",
       "29          1.885299\n",
       "39          1.949207\n",
       "49          1.949207\n",
       "             ...    \n",
       "135249    143.422582\n",
       "135670    144.646684\n",
       "136091    145.556596\n",
       "136512    146.898652\n",
       "136933    148.688246\n",
       "Name: Index, Length: 650, dtype: float64"
      ]
     },
     "execution_count": 10,
     "metadata": {},
     "output_type": "execute_result"
    }
   ],
   "source": [
    "#viewing the values\n",
    "df"
   ]
  },
  {
   "cell_type": "code",
   "execution_count": 11,
   "id": "d4cc2b84",
   "metadata": {},
   "outputs": [],
   "source": [
    "#scaling down the magnitude of index\n",
    "scaler = MinMaxScaler(feature_range=(0,1))\n",
    "df = scaler.fit_transform(np.array(df).reshape(-1,1))"
   ]
  },
  {
   "cell_type": "code",
   "execution_count": 12,
   "id": "4318b38d",
   "metadata": {},
   "outputs": [
    {
     "data": {
      "text/plain": [
       "(650, 1)"
      ]
     },
     "execution_count": 12,
     "metadata": {},
     "output_type": "execute_result"
    }
   ],
   "source": [
    "#checking the shape\n",
    "df.shape"
   ]
  },
  {
   "cell_type": "code",
   "execution_count": 13,
   "id": "0bedad25",
   "metadata": {},
   "outputs": [],
   "source": [
    "#splitting dataset into train and test split\n",
    "size =int(len(df)*0.65)\n",
    "test_size =len(df)-size\n",
    "train_data,test_data = df[0:size,:],df[size:len(df),:]"
   ]
  },
  {
   "cell_type": "code",
   "execution_count": 14,
   "id": "81d93d1e",
   "metadata": {},
   "outputs": [
    {
     "name": "stdout",
     "output_type": "stream",
     "text": [
      "length of training data 422\n",
      "length of test data 228\n"
     ]
    }
   ],
   "source": [
    "#checking length of train and test data\n",
    "print(\"length of training data\", len(train_data))\n",
    "print(\"length of test data\", len(test_data))"
   ]
  },
  {
   "cell_type": "code",
   "execution_count": 15,
   "id": "20cebedb",
   "metadata": {},
   "outputs": [],
   "source": [
    "# create a function for dataset matrix\n",
    "def mat_data(data, step=1):\n",
    "    X = []\n",
    "    Y = []\n",
    "    for i in range(len(data)-step-1):\n",
    "        a = data[i:(i+step), 0]    \n",
    "        X.append(a)\n",
    "        Y.append(data[i + step, 0])\n",
    "    return np.array(X), np.array(Y)"
   ]
  },
  {
   "cell_type": "code",
   "execution_count": 16,
   "id": "3d40a9b0",
   "metadata": {},
   "outputs": [],
   "source": [
    "#diving the train and test data into time step of 30\n",
    "time_step = 30\n",
    "X_train, y_train = mat_data(train_data, time_step)\n",
    "X_test, y_test = mat_data(test_data, time_step)"
   ]
  },
  {
   "cell_type": "code",
   "execution_count": 19,
   "id": "183947d9",
   "metadata": {},
   "outputs": [
    {
     "name": "stdout",
     "output_type": "stream",
     "text": [
      "Shape of X train (391, 30)\n",
      "Shape of X test (197, 30)\n",
      "Shape of y train (391,)\n",
      "Shape of y test (197,)\n"
     ]
    }
   ],
   "source": [
    "#checking the shape of train and test data\n",
    "print('Shape of X train',X_train.shape)\n",
    "print('Shape of X test',X_test.shape)\n",
    "print('Shape of y train',y_train.shape)\n",
    "print('Shape of y test',y_test.shape)"
   ]
  },
  {
   "cell_type": "code",
   "execution_count": 20,
   "id": "08f57f3f",
   "metadata": {},
   "outputs": [],
   "source": [
    "#reshape the dataset for model building\n",
    "X_train =X_train.reshape(X_train.shape[0],X_train.shape[1] , 1)\n",
    "X_test = X_test.reshape(X_test.shape[0],X_test.shape[1] , 1)"
   ]
  },
  {
   "cell_type": "code",
   "execution_count": 21,
   "id": "3701d53b",
   "metadata": {},
   "outputs": [],
   "source": [
    "#LSTM model building\n",
    "model_LSTM=Sequential()\n",
    "model_LSTM.add(LSTM(64,return_sequences=True,input_shape=(30,1)))\n",
    "model_LSTM.add(Dropout(0.2))\n",
    "model_LSTM.add(LSTM(32))\n",
    "model_LSTM.add(Dense(1))\n",
    "model_LSTM.compile(loss='mean_squared_error',optimizer='adam')"
   ]
  },
  {
   "cell_type": "code",
   "execution_count": 22,
   "id": "7bf32033",
   "metadata": {},
   "outputs": [
    {
     "name": "stdout",
     "output_type": "stream",
     "text": [
      "Model: \"sequential\"\n",
      "_________________________________________________________________\n",
      " Layer (type)                Output Shape              Param #   \n",
      "=================================================================\n",
      " lstm (LSTM)                 (None, 30, 64)            16896     \n",
      "                                                                 \n",
      " dropout (Dropout)           (None, 30, 64)            0         \n",
      "                                                                 \n",
      " lstm_1 (LSTM)               (None, 32)                12416     \n",
      "                                                                 \n",
      " dense (Dense)               (None, 1)                 33        \n",
      "                                                                 \n",
      "=================================================================\n",
      "Total params: 29,345\n",
      "Trainable params: 29,345\n",
      "Non-trainable params: 0\n",
      "_________________________________________________________________\n"
     ]
    }
   ],
   "source": [
    "#checking the model summary\n",
    "model_LSTM.summary()"
   ]
  },
  {
   "cell_type": "code",
   "execution_count": 23,
   "id": "d8718424",
   "metadata": {},
   "outputs": [
    {
     "name": "stdout",
     "output_type": "stream",
     "text": [
      "Epoch 1/100\n",
      "7/7 [==============================] - 6s 222ms/step - loss: 0.0099 - val_loss: 0.0091\n",
      "Epoch 2/100\n",
      "7/7 [==============================] - 0s 35ms/step - loss: 0.0029 - val_loss: 0.0489\n",
      "Epoch 3/100\n",
      "7/7 [==============================] - 0s 34ms/step - loss: 0.0017 - val_loss: 0.0033\n",
      "Epoch 4/100\n",
      "7/7 [==============================] - 0s 43ms/step - loss: 3.8975e-04 - val_loss: 0.0037\n",
      "Epoch 5/100\n",
      "7/7 [==============================] - 0s 40ms/step - loss: 2.7153e-04 - val_loss: 0.0012\n",
      "Epoch 6/100\n",
      "7/7 [==============================] - 0s 33ms/step - loss: 2.3217e-04 - val_loss: 0.0031\n",
      "Epoch 7/100\n",
      "7/7 [==============================] - 0s 42ms/step - loss: 1.7399e-04 - val_loss: 0.0011\n",
      "Epoch 8/100\n",
      "7/7 [==============================] - 0s 45ms/step - loss: 1.6783e-04 - val_loss: 0.0010\n",
      "Epoch 9/100\n",
      "7/7 [==============================] - 0s 44ms/step - loss: 1.4510e-04 - val_loss: 0.0012\n",
      "Epoch 10/100\n",
      "7/7 [==============================] - 0s 43ms/step - loss: 1.2250e-04 - val_loss: 0.0021\n",
      "Epoch 11/100\n",
      "7/7 [==============================] - 0s 49ms/step - loss: 1.3512e-04 - val_loss: 0.0017\n",
      "Epoch 12/100\n",
      "7/7 [==============================] - 0s 43ms/step - loss: 1.2606e-04 - val_loss: 0.0015\n",
      "Epoch 13/100\n",
      "7/7 [==============================] - 0s 44ms/step - loss: 1.3523e-04 - val_loss: 0.0017\n",
      "Epoch 14/100\n",
      "7/7 [==============================] - 0s 47ms/step - loss: 1.5405e-04 - val_loss: 0.0023\n",
      "Epoch 15/100\n",
      "7/7 [==============================] - 0s 44ms/step - loss: 1.2759e-04 - val_loss: 0.0031\n",
      "Epoch 16/100\n",
      "7/7 [==============================] - 0s 46ms/step - loss: 1.1738e-04 - val_loss: 0.0032\n",
      "Epoch 17/100\n",
      "7/7 [==============================] - 0s 44ms/step - loss: 1.0084e-04 - val_loss: 0.0043\n",
      "Epoch 18/100\n",
      "7/7 [==============================] - 0s 49ms/step - loss: 1.1963e-04 - val_loss: 0.0037\n",
      "Epoch 19/100\n",
      "7/7 [==============================] - 0s 42ms/step - loss: 1.1036e-04 - val_loss: 0.0042\n",
      "Epoch 20/100\n",
      "7/7 [==============================] - 0s 37ms/step - loss: 1.2742e-04 - val_loss: 0.0070\n",
      "Epoch 21/100\n",
      "7/7 [==============================] - 0s 45ms/step - loss: 1.5456e-04 - val_loss: 0.0046\n",
      "Epoch 22/100\n",
      "7/7 [==============================] - 0s 45ms/step - loss: 1.2744e-04 - val_loss: 0.0076\n",
      "Epoch 23/100\n",
      "7/7 [==============================] - 0s 49ms/step - loss: 1.2725e-04 - val_loss: 0.0043\n",
      "Epoch 24/100\n",
      "7/7 [==============================] - 0s 51ms/step - loss: 9.4594e-05 - val_loss: 0.0066\n",
      "Epoch 25/100\n",
      "7/7 [==============================] - 0s 41ms/step - loss: 1.1119e-04 - val_loss: 0.0078\n",
      "Epoch 26/100\n",
      "7/7 [==============================] - 0s 38ms/step - loss: 1.1217e-04 - val_loss: 0.0066\n",
      "Epoch 27/100\n",
      "7/7 [==============================] - 0s 47ms/step - loss: 1.1219e-04 - val_loss: 0.0127\n",
      "Epoch 28/100\n",
      "7/7 [==============================] - 0s 42ms/step - loss: 1.4843e-04 - val_loss: 0.0074\n",
      "Epoch 29/100\n",
      "7/7 [==============================] - 0s 52ms/step - loss: 1.2730e-04 - val_loss: 0.0165\n",
      "Epoch 30/100\n",
      "7/7 [==============================] - 0s 42ms/step - loss: 1.3340e-04 - val_loss: 0.0045\n",
      "Epoch 31/100\n",
      "7/7 [==============================] - 0s 45ms/step - loss: 1.2303e-04 - val_loss: 0.0103\n",
      "Epoch 32/100\n",
      "7/7 [==============================] - 0s 47ms/step - loss: 1.0254e-04 - val_loss: 0.0109\n",
      "Epoch 33/100\n",
      "7/7 [==============================] - 0s 41ms/step - loss: 1.0046e-04 - val_loss: 0.0088\n",
      "Epoch 34/100\n",
      "7/7 [==============================] - 0s 48ms/step - loss: 8.8649e-05 - val_loss: 0.0073\n",
      "Epoch 35/100\n",
      "7/7 [==============================] - 0s 45ms/step - loss: 1.0042e-04 - val_loss: 0.0126\n",
      "Epoch 36/100\n",
      "7/7 [==============================] - 0s 49ms/step - loss: 1.0029e-04 - val_loss: 0.0084\n",
      "Epoch 37/100\n",
      "7/7 [==============================] - 0s 41ms/step - loss: 9.4317e-05 - val_loss: 0.0089\n",
      "Epoch 38/100\n",
      "7/7 [==============================] - 0s 32ms/step - loss: 9.9593e-05 - val_loss: 0.0105\n",
      "Epoch 39/100\n",
      "7/7 [==============================] - 0s 37ms/step - loss: 9.5441e-05 - val_loss: 0.0097\n",
      "Epoch 40/100\n",
      "7/7 [==============================] - 0s 38ms/step - loss: 8.9874e-05 - val_loss: 0.0097\n",
      "Epoch 41/100\n",
      "7/7 [==============================] - 0s 36ms/step - loss: 9.4226e-05 - val_loss: 0.0084\n",
      "Epoch 42/100\n",
      "7/7 [==============================] - 0s 34ms/step - loss: 1.1508e-04 - val_loss: 0.0136\n",
      "Epoch 43/100\n",
      "7/7 [==============================] - 0s 39ms/step - loss: 1.0750e-04 - val_loss: 0.0048\n",
      "Epoch 44/100\n",
      "7/7 [==============================] - 0s 33ms/step - loss: 1.1050e-04 - val_loss: 0.0109\n",
      "Epoch 45/100\n",
      "7/7 [==============================] - 0s 44ms/step - loss: 8.9534e-05 - val_loss: 0.0122\n",
      "Epoch 46/100\n",
      "7/7 [==============================] - 0s 46ms/step - loss: 1.0096e-04 - val_loss: 0.0070\n",
      "Epoch 47/100\n",
      "7/7 [==============================] - 0s 45ms/step - loss: 9.3822e-05 - val_loss: 0.0107\n",
      "Epoch 48/100\n",
      "7/7 [==============================] - 0s 45ms/step - loss: 8.9484e-05 - val_loss: 0.0096\n",
      "Epoch 49/100\n",
      "7/7 [==============================] - 0s 33ms/step - loss: 7.5748e-05 - val_loss: 0.0088\n",
      "Epoch 50/100\n",
      "7/7 [==============================] - 0s 45ms/step - loss: 7.9517e-05 - val_loss: 0.0086\n",
      "Epoch 51/100\n",
      "7/7 [==============================] - 0s 49ms/step - loss: 8.3360e-05 - val_loss: 0.0110\n",
      "Epoch 52/100\n",
      "7/7 [==============================] - 0s 34ms/step - loss: 9.0100e-05 - val_loss: 0.0105\n",
      "Epoch 53/100\n",
      "7/7 [==============================] - 0s 52ms/step - loss: 8.6615e-05 - val_loss: 0.0110\n",
      "Epoch 54/100\n",
      "7/7 [==============================] - 0s 30ms/step - loss: 1.0289e-04 - val_loss: 0.0074\n",
      "Epoch 55/100\n",
      "7/7 [==============================] - 0s 32ms/step - loss: 8.8785e-05 - val_loss: 0.0099\n",
      "Epoch 56/100\n",
      "7/7 [==============================] - 0s 33ms/step - loss: 8.5803e-05 - val_loss: 0.0068\n",
      "Epoch 57/100\n",
      "7/7 [==============================] - 0s 40ms/step - loss: 7.5929e-05 - val_loss: 0.0099\n",
      "Epoch 58/100\n",
      "7/7 [==============================] - 0s 36ms/step - loss: 8.4006e-05 - val_loss: 0.0141\n",
      "Epoch 59/100\n",
      "7/7 [==============================] - 0s 41ms/step - loss: 7.6708e-05 - val_loss: 0.0062\n",
      "Epoch 60/100\n",
      "7/7 [==============================] - 0s 40ms/step - loss: 8.1292e-05 - val_loss: 0.0103\n",
      "Epoch 61/100\n",
      "7/7 [==============================] - 0s 34ms/step - loss: 8.6325e-05 - val_loss: 0.0084\n",
      "Epoch 62/100\n",
      "7/7 [==============================] - 0s 37ms/step - loss: 9.0140e-05 - val_loss: 0.0108\n",
      "Epoch 63/100\n",
      "7/7 [==============================] - 0s 48ms/step - loss: 1.0905e-04 - val_loss: 0.0122\n",
      "Epoch 64/100\n",
      "7/7 [==============================] - 0s 45ms/step - loss: 8.9699e-05 - val_loss: 0.0072\n",
      "Epoch 65/100\n",
      "7/7 [==============================] - 0s 34ms/step - loss: 9.6308e-05 - val_loss: 0.0098\n",
      "Epoch 66/100\n",
      "7/7 [==============================] - 0s 38ms/step - loss: 7.6686e-05 - val_loss: 0.0105\n",
      "Epoch 67/100\n",
      "7/7 [==============================] - 0s 33ms/step - loss: 7.9257e-05 - val_loss: 0.0092\n",
      "Epoch 68/100\n",
      "7/7 [==============================] - 0s 35ms/step - loss: 7.8997e-05 - val_loss: 0.0067\n",
      "Epoch 69/100\n",
      "7/7 [==============================] - 0s 31ms/step - loss: 7.5038e-05 - val_loss: 0.0092\n",
      "Epoch 70/100\n",
      "7/7 [==============================] - 0s 44ms/step - loss: 6.2778e-05 - val_loss: 0.0075\n",
      "Epoch 71/100\n",
      "7/7 [==============================] - 0s 38ms/step - loss: 7.5839e-05 - val_loss: 0.0054\n",
      "Epoch 72/100\n",
      "7/7 [==============================] - 0s 47ms/step - loss: 7.8882e-05 - val_loss: 0.0070\n",
      "Epoch 73/100\n",
      "7/7 [==============================] - 0s 42ms/step - loss: 6.8998e-05 - val_loss: 0.0117\n",
      "Epoch 74/100\n",
      "7/7 [==============================] - 0s 39ms/step - loss: 8.3275e-05 - val_loss: 0.0123\n",
      "Epoch 75/100\n",
      "7/7 [==============================] - 0s 49ms/step - loss: 1.2625e-04 - val_loss: 0.0031\n",
      "Epoch 76/100\n",
      "7/7 [==============================] - 0s 45ms/step - loss: 1.2825e-04 - val_loss: 0.0043\n",
      "Epoch 77/100\n",
      "7/7 [==============================] - 0s 40ms/step - loss: 9.5715e-05 - val_loss: 0.0159\n",
      "Epoch 78/100\n",
      "7/7 [==============================] - 0s 44ms/step - loss: 8.7962e-05 - val_loss: 0.0105\n",
      "Epoch 79/100\n",
      "7/7 [==============================] - 0s 43ms/step - loss: 7.7079e-05 - val_loss: 0.0056\n",
      "Epoch 80/100\n",
      "7/7 [==============================] - 0s 49ms/step - loss: 6.8362e-05 - val_loss: 0.0093\n",
      "Epoch 81/100\n",
      "7/7 [==============================] - 0s 52ms/step - loss: 6.9002e-05 - val_loss: 0.0107\n",
      "Epoch 82/100\n",
      "7/7 [==============================] - 0s 47ms/step - loss: 6.4156e-05 - val_loss: 0.0078\n",
      "Epoch 83/100\n",
      "7/7 [==============================] - 0s 43ms/step - loss: 6.1337e-05 - val_loss: 0.0102\n",
      "Epoch 84/100\n",
      "7/7 [==============================] - 0s 46ms/step - loss: 8.3884e-05 - val_loss: 0.0064\n",
      "Epoch 85/100\n",
      "7/7 [==============================] - 0s 36ms/step - loss: 6.9380e-05 - val_loss: 0.0045\n",
      "Epoch 86/100\n",
      "7/7 [==============================] - 0s 51ms/step - loss: 7.2674e-05 - val_loss: 0.0110\n",
      "Epoch 87/100\n",
      "7/7 [==============================] - 1s 81ms/step - loss: 6.5930e-05 - val_loss: 0.0063\n",
      "Epoch 88/100\n",
      "7/7 [==============================] - 0s 66ms/step - loss: 6.6610e-05 - val_loss: 0.0072\n",
      "Epoch 89/100\n",
      "7/7 [==============================] - 0s 74ms/step - loss: 6.0579e-05 - val_loss: 0.0084\n",
      "Epoch 90/100\n",
      "7/7 [==============================] - 0s 52ms/step - loss: 5.9276e-05 - val_loss: 0.0051\n",
      "Epoch 91/100\n",
      "7/7 [==============================] - 0s 46ms/step - loss: 7.0950e-05 - val_loss: 0.0052\n",
      "Epoch 92/100\n",
      "7/7 [==============================] - 0s 55ms/step - loss: 6.8367e-05 - val_loss: 0.0077\n",
      "Epoch 93/100\n",
      "7/7 [==============================] - 0s 62ms/step - loss: 6.0731e-05 - val_loss: 0.0077\n",
      "Epoch 94/100\n",
      "7/7 [==============================] - 0s 68ms/step - loss: 6.2346e-05 - val_loss: 0.0052\n",
      "Epoch 95/100\n",
      "7/7 [==============================] - 0s 52ms/step - loss: 6.0165e-05 - val_loss: 0.0030\n",
      "Epoch 96/100\n",
      "7/7 [==============================] - 0s 29ms/step - loss: 6.3081e-05 - val_loss: 0.0039\n",
      "Epoch 97/100\n",
      "7/7 [==============================] - 0s 30ms/step - loss: 8.2649e-05 - val_loss: 0.0101\n",
      "Epoch 98/100\n",
      "7/7 [==============================] - 0s 42ms/step - loss: 8.6313e-05 - val_loss: 0.0057\n",
      "Epoch 99/100\n",
      "7/7 [==============================] - 0s 70ms/step - loss: 6.8429e-05 - val_loss: 0.0022\n",
      "Epoch 100/100\n",
      "7/7 [==============================] - 0s 66ms/step - loss: 6.4496e-05 - val_loss: 0.0029\n"
     ]
    },
    {
     "data": {
      "text/plain": [
       "<keras.callbacks.History at 0x14769f20160>"
      ]
     },
     "execution_count": 23,
     "metadata": {},
     "output_type": "execute_result"
    }
   ],
   "source": [
    "#fitting the model\n",
    "model_LSTM.fit(X_train,y_train,validation_data=(X_test,y_test),epochs=100,batch_size=64,verbose=1)"
   ]
  },
  {
   "cell_type": "code",
   "execution_count": 24,
   "id": "f8684e1d",
   "metadata": {},
   "outputs": [],
   "source": [
    "#model prediction\n",
    "train_predict=model_LSTM.predict(X_train)\n",
    "test_predict=model_LSTM.predict(X_test)"
   ]
  },
  {
   "cell_type": "code",
   "execution_count": 25,
   "id": "56047579",
   "metadata": {},
   "outputs": [],
   "source": [
    "##Transferring the values  to original form\n",
    "train_predict=scaler.inverse_transform(train_predict)\n",
    "test_predict=scaler.inverse_transform(test_predict)"
   ]
  },
  {
   "cell_type": "code",
   "execution_count": 26,
   "id": "1f727d28",
   "metadata": {},
   "outputs": [
    {
     "data": {
      "text/plain": [
       "25.939924258292628"
      ]
     },
     "execution_count": 26,
     "metadata": {},
     "output_type": "execute_result"
    }
   ],
   "source": [
    "#calculating the error rate for training data\n",
    "math.sqrt(mean_squared_error(y_train,train_predict))"
   ]
  },
  {
   "cell_type": "code",
   "execution_count": 27,
   "id": "131b4d36",
   "metadata": {},
   "outputs": [
    {
     "data": {
      "text/plain": [
       "111.69119964458207"
      ]
     },
     "execution_count": 27,
     "metadata": {},
     "output_type": "execute_result"
    }
   ],
   "source": [
    "#calculating the error rate of test data\n",
    "math.sqrt(mean_squared_error(y_test,test_predict))"
   ]
  },
  {
   "cell_type": "code",
   "execution_count": 28,
   "id": "b495fafc",
   "metadata": {},
   "outputs": [
    {
     "data": {
      "image/png": "[encoded data removed]",
      "text/plain": [
       "<Figure size 1152x720 with 1 Axes>"
      ]
     },
     "metadata": {},
     "output_type": "display_data"
    }
   ],
   "source": [
    "#plotting the train and test data with predicted data\n",
    "\n",
    "look_back=30\n",
    "trainPredictPlot = np.empty_like(df)\n",
    "trainPredictPlot[:, :] = np.nan\n",
    "trainPredictPlot[look_back:len(train_predict)+look_back, :] = train_predict\n",
    "# shift test predictions for plotting\n",
    "testPredictPlot = np.empty_like(df)\n",
    "testPredictPlot[:, :] = np.nan\n",
    "testPredictPlot[len(train_predict)+(look_back*2)+1:len(df)-1, :] = test_predict\n",
    "# plot baseline and predictions\n",
    "plt.figure(figsize=(16,10))\n",
    "plt.plot(scaler.inverse_transform(df), label ='Actual Data')\n",
    "plt.plot(trainPredictPlot, label='Train Predict Data')\n",
    "plt.plot(testPredictPlot,label='Test Predict Data')\n",
    "plt.legend()\n",
    "plt.show()"
   ]
  },
  {
   "cell_type": "code",
   "execution_count": 29,
   "id": "ac2fcdfc",
   "metadata": {},
   "outputs": [
    {
     "data": {
      "text/plain": [
       "228"
      ]
     },
     "execution_count": 29,
     "metadata": {},
     "output_type": "execute_result"
    }
   ],
   "source": [
    "#checking the length of test data\n",
    "len(test_data)"
   ]
  },
  {
   "cell_type": "code",
   "execution_count": 30,
   "id": "089145a8",
   "metadata": {},
   "outputs": [
    {
     "data": {
      "text/plain": [
       "(1, 30)"
      ]
     },
     "execution_count": 30,
     "metadata": {},
     "output_type": "execute_result"
    }
   ],
   "source": [
    "#picking the last 30 data items from test data to predict next\n",
    "x_input=test_data[198:].reshape(1,-1)\n",
    "x_input.shape"
   ]
  },
  {
   "cell_type": "code",
   "execution_count": 31,
   "id": "f20a9d16",
   "metadata": {},
   "outputs": [],
   "source": [
    "#creating a temporary list \n",
    "temp_input=list(x_input)\n",
    "temp_input=temp_input[0].tolist()"
   ]
  },
  {
   "cell_type": "code",
   "execution_count": 32,
   "id": "6771343c",
   "metadata": {},
   "outputs": [
    {
     "name": "stdout",
     "output_type": "stream",
     "text": [
      "[1.089747]\n",
      "31\n",
      "1 Month input [0.8158052  0.81105029 0.8184629  0.81000977 0.81426109 0.82567772\n",
      " 0.83276479 0.84102041 0.85010828 0.8573754  0.86626959 0.87312353\n",
      " 0.87921897 0.87884944 0.89285238 0.88107928 0.88492283 0.9359855\n",
      " 0.89360627 0.91972175 0.95113835 0.93553713 0.94848795 0.95370845\n",
      " 0.96413108 0.97246947 0.97866766 0.98780955 1.         1.08974695]\n",
      "1 Month output [[1.1073952]]\n",
      "2 Month input [0.81105029 0.8184629  0.81000977 0.81426109 0.82567772 0.83276479\n",
      " 0.84102041 0.85010828 0.8573754  0.86626959 0.87312353 0.87921897\n",
      " 0.87884944 0.89285238 0.88107928 0.88492283 0.9359855  0.89360627\n",
      " 0.91972175 0.95113835 0.93553713 0.94848795 0.95370845 0.96413108\n",
      " 0.97246947 0.97866766 0.98780955 1.         1.08974695 1.10739517]\n",
      "2 Month output [[1.1301506]]\n",
      "3 Month input [0.8184629  0.81000977 0.81426109 0.82567772 0.83276479 0.84102041\n",
      " 0.85010828 0.8573754  0.86626959 0.87312353 0.87921897 0.87884944\n",
      " 0.89285238 0.88107928 0.88492283 0.9359855  0.89360627 0.91972175\n",
      " 0.95113835 0.93553713 0.94848795 0.95370845 0.96413108 0.97246947\n",
      " 0.97866766 0.98780955 1.         1.08974695 1.10739517 1.13015056]\n",
      "3 Month output [[1.1571082]]\n",
      "4 Month input [0.81000977 0.81426109 0.82567772 0.83276479 0.84102041 0.85010828\n",
      " 0.8573754  0.86626959 0.87312353 0.87921897 0.87884944 0.89285238\n",
      " 0.88107928 0.88492283 0.9359855  0.89360627 0.91972175 0.95113835\n",
      " 0.93553713 0.94848795 0.95370845 0.96413108 0.97246947 0.97866766\n",
      " 0.98780955 1.         1.08974695 1.10739517 1.13015056 1.15710819]\n",
      "4 Month output [[1.1876289]]\n",
      "5 Month input [0.81426109 0.82567772 0.83276479 0.84102041 0.85010828 0.8573754\n",
      " 0.86626959 0.87312353 0.87921897 0.87884944 0.89285238 0.88107928\n",
      " 0.88492283 0.9359855  0.89360627 0.91972175 0.95113835 0.93553713\n",
      " 0.94848795 0.95370845 0.96413108 0.97246947 0.97866766 0.98780955\n",
      " 1.         1.08974695 1.10739517 1.13015056 1.15710819 1.18762887]\n",
      "5 Month output [[1.2212708]]\n",
      "6 Month input [0.82567772 0.83276479 0.84102041 0.85010828 0.8573754  0.86626959\n",
      " 0.87312353 0.87921897 0.87884944 0.89285238 0.88107928 0.88492283\n",
      " 0.9359855  0.89360627 0.91972175 0.95113835 0.93553713 0.94848795\n",
      " 0.95370845 0.96413108 0.97246947 0.97866766 0.98780955 1.\n",
      " 1.08974695 1.10739517 1.13015056 1.15710819 1.18762887 1.2212708 ]\n",
      "6 Month output [[1.2577097]]\n",
      "7 Month input [0.83276479 0.84102041 0.85010828 0.8573754  0.86626959 0.87312353\n",
      " 0.87921897 0.87884944 0.89285238 0.88107928 0.88492283 0.9359855\n",
      " 0.89360627 0.91972175 0.95113835 0.93553713 0.94848795 0.95370845\n",
      " 0.96413108 0.97246947 0.97866766 0.98780955 1.         1.08974695\n",
      " 1.10739517 1.13015056 1.15710819 1.18762887 1.2212708  1.25770974]\n",
      "7 Month output [[1.2967247]]\n",
      "8 Month input [0.84102041 0.85010828 0.8573754  0.86626959 0.87312353 0.87921897\n",
      " 0.87884944 0.89285238 0.88107928 0.88492283 0.9359855  0.89360627\n",
      " 0.91972175 0.95113835 0.93553713 0.94848795 0.95370845 0.96413108\n",
      " 0.97246947 0.97866766 0.98780955 1.         1.08974695 1.10739517\n",
      " 1.13015056 1.15710819 1.18762887 1.2212708  1.25770974 1.29672468]\n",
      "8 Month output [[1.3381739]]\n",
      "9 Month input [0.85010828 0.8573754  0.86626959 0.87312353 0.87921897 0.87884944\n",
      " 0.89285238 0.88107928 0.88492283 0.9359855  0.89360627 0.91972175\n",
      " 0.95113835 0.93553713 0.94848795 0.95370845 0.96413108 0.97246947\n",
      " 0.97866766 0.98780955 1.         1.08974695 1.10739517 1.13015056\n",
      " 1.15710819 1.18762887 1.2212708  1.25770974 1.29672468 1.33817387]\n",
      "9 Month output [[1.3819597]]\n",
      "[[1.0897469520568848], [1.1073951721191406], [1.130150556564331], [1.157108187675476], [1.1876288652420044], [1.2212707996368408], [1.2577097415924072], [1.2967246770858765], [1.3381738662719727], [1.3819596767425537]]\n"
     ]
    }
   ],
   "source": [
    "#creating a loop which predicts the next 10 months \n",
    "lst_output=[]\n",
    "n_steps=30\n",
    "i=0\n",
    "while(i<10):\n",
    "    if(len(temp_input)>30):\n",
    "        #print(temp_input)\n",
    "        x_input=np.array(temp_input[1:])\n",
    "        print(\"{} Month input {}\".format(i,x_input))\n",
    "        x_input=x_input.reshape(1,-1)\n",
    "        x_input = x_input.reshape((1, n_steps, 1))\n",
    "        #print(x_input)\n",
    "        yhat = model_LSTM.predict(x_input, verbose=0)\n",
    "        print(\"{} Month output {}\".format(i,yhat))\n",
    "        temp_input.extend(yhat[0].tolist())\n",
    "        temp_input=temp_input[1:]\n",
    "        #print(temp_input)\n",
    "        lst_output.extend(yhat.tolist())\n",
    "        i=i+1\n",
    "    else:\n",
    "        x_input = x_input.reshape((1, n_steps,1))\n",
    "        yhat = model_LSTM.predict(x_input, verbose=0)\n",
    "        print(yhat[0])\n",
    "        temp_input.extend(yhat[0].tolist())\n",
    "        print(len(temp_input))\n",
    "        lst_output.extend(yhat.tolist())\n",
    "        i=i+1\n",
    "    \n",
    "\n",
    "print(lst_output)"
   ]
  },
  {
   "cell_type": "code",
   "execution_count": 33,
   "id": "00682bfb",
   "metadata": {},
   "outputs": [],
   "source": [
    "#creating variables for evenly ranged values\n",
    "day_new=np.arange(1,11)\n",
    "day_pred=np.arange(11,21)"
   ]
  },
  {
   "cell_type": "code",
   "execution_count": 34,
   "id": "b054cfe2",
   "metadata": {},
   "outputs": [
    {
     "data": {
      "text/plain": [
       "[<matplotlib.lines.Line2D at 0x14774f138b0>]"
      ]
     },
     "execution_count": 34,
     "metadata": {},
     "output_type": "execute_result"
    },
    {
     "data": {
      "image/png": "[encoded data removed]",
      "text/plain": [
       "<Figure size 1152x576 with 1 Axes>"
      ]
     },
     "metadata": {},
     "output_type": "display_data"
    }
   ],
   "source": [
    "plt.plot(day_new,scaler.inverse_transform(df[640:]))\n",
    "plt.plot(day_pred,scaler.inverse_transform(lst_output))"
   ]
  },
  {
   "cell_type": "code",
   "execution_count": 35,
   "id": "70265c7e",
   "metadata": {},
   "outputs": [
    {
     "data": {
      "text/plain": [
       "[<matplotlib.lines.Line2D at 0x14774f86b50>]"
      ]
     },
     "execution_count": 35,
     "metadata": {},
     "output_type": "execute_result"
    },
    {
     "data": {
      "image/png": "[encoded data removed]",
      "text/plain": [
       "<Figure size 1152x576 with 1 Axes>"
      ]
     },
     "metadata": {},
     "output_type": "display_data"
    }
   ],
   "source": [
    "#adding the predicted values to the previous ones and plotting it\n",
    "df_ex=df.tolist()\n",
    "df_ex.extend(lst_output)\n",
    "plt.plot(df_ex[:680])"
   ]
  },
  {
   "cell_type": "code",
   "execution_count": 36,
   "id": "c335dba5",
   "metadata": {},
   "outputs": [],
   "source": [
    "#transforming the data\n",
    "df_ex=scaler.inverse_transform(df_ex).tolist()"
   ]
  },
  {
   "cell_type": "code",
   "execution_count": 37,
   "id": "e4df9c1a",
   "metadata": {},
   "outputs": [
    {
     "data": {
      "text/plain": [
       "[<matplotlib.lines.Line2D at 0x14775245e80>]"
      ]
     },
     "execution_count": 37,
     "metadata": {},
     "output_type": "execute_result"
    },
    {
     "data": {
      "image/png": "[encoded data removed]",
      "text/plain": [
       "<Figure size 1152x576 with 1 Axes>"
      ]
     },
     "metadata": {},
     "output_type": "display_data"
    }
   ],
   "source": [
    "#plotting the total \n",
    "plt.plot(df_ex)"
   ]
  },
  {
   "cell_type": "code",
   "execution_count": null,
   "id": "0c6eb8de",
   "metadata": {},
   "outputs": [],
   "source": [
    "#save model\n",
    "model_LSTM.save(\"C:\\Users\\hp\\dissertation\\Model\\HPI_model.H5\")"
   ]
  },
  {
   "cell_type": "code",
   "execution_count": null,
   "id": "f246839a",
   "metadata": {},
   "outputs": [],
   "source": []
  },
  {
   "cell_type": "code",
   "execution_count": null,
   "id": "5cae82f5",
   "metadata": {},
   "outputs": [],
   "source": []
  },
  {
   "cell_type": "code",
   "execution_count": null,
   "id": "a48e9613",
   "metadata": {},
   "outputs": [],
   "source": []
  },
  {
   "cell_type": "code",
   "execution_count": null,
   "id": "9b659fcd",
   "metadata": {},
   "outputs": [],
   "source": []
  },
  {
   "cell_type": "code",
   "execution_count": null,
   "id": "3b69eea7",
   "metadata": {},
   "outputs": [],
   "source": []
  },
  {
   "cell_type": "code",
   "execution_count": null,
   "id": "b85ec599",
   "metadata": {},
   "outputs": [],
   "source": []
  }
 ],
 "metadata": {
  "kernelspec": {
   "display_name": "Python 3 (ipykernel)",
   "language": "python",
   "name": "python3"
  },
  "language_info": {
   "codemirror_mode": {
    "name": "ipython",
    "version": 3
   },
   "file_extension": ".py",
   "mimetype": "text/x-python",
   "name": "python",
   "nbconvert_exporter": "python",
   "pygments_lexer": "ipython3",
   "version": "3.9.7"
  }
 },
 "nbformat": 4,
 "nbformat_minor": 5
}
