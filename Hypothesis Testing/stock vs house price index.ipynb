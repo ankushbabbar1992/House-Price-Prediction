{
 "cells": [
  {
   "cell_type": "markdown",
   "id": "fd0dd331",
   "metadata": {},
   "source": [
    "# <center> Stock Market vs House Price Index"
   ]
  },
  {
   "cell_type": "code",
   "execution_count": 30,
   "id": "1d25e822",
   "metadata": {},
   "outputs": [],
   "source": [
    "#importing various libraries\n",
    "import pandas as pd\n",
    "import yfinance as yf\n",
    "import matplotlib.pyplot as plt\n",
    "import statsmodels.api as sm\n",
    "from scipy import stats\n",
    "import seaborn as sns\n",
    "import warnings\n",
    "warnings.filterwarnings('ignore')"
   ]
  },
  {
   "cell_type": "code",
   "execution_count": 31,
   "id": "8e8fef0e",
   "metadata": {},
   "outputs": [
    {
     "name": "stdout",
     "output_type": "stream",
     "text": [
      "[*********************100%***********************]  1 of 1 completed\n"
     ]
    }
   ],
   "source": [
    "#downloading the data from yahoo finance\n",
    "df_stock=yf.download(tickers='^FTAS',start='2005-01-01',end='2021-12-01',interval=\"1mo\")"
   ]
  },
  {
   "cell_type": "code",
   "execution_count": 32,
   "id": "a9cfe3c2",
   "metadata": {},
   "outputs": [
    {
     "data": {
      "text/plain": [
       "(204, 6)"
      ]
     },
     "execution_count": 32,
     "metadata": {},
     "output_type": "execute_result"
    }
   ],
   "source": [
    "#checking the shape\n",
    "df_stock.shape"
   ]
  },
  {
   "cell_type": "code",
   "execution_count": 33,
   "id": "8e89f9b0",
   "metadata": {},
   "outputs": [
    {
     "data": {
      "text/html": [
       "<div>\n",
       "<style scoped>\n",
       "    .dataframe tbody tr th:only-of-type {\n",
       "        vertical-align: middle;\n",
       "    }\n",
       "\n",
       "    .dataframe tbody tr th {\n",
       "        vertical-align: top;\n",
       "    }\n",
       "\n",
       "    .dataframe thead th {\n",
       "        text-align: right;\n",
       "    }\n",
       "</style>\n",
       "<table border=\"1\" class=\"dataframe\">\n",
       "  <thead>\n",
       "    <tr style=\"text-align: right;\">\n",
       "      <th></th>\n",
       "      <th>Open</th>\n",
       "      <th>High</th>\n",
       "      <th>Low</th>\n",
       "      <th>Close</th>\n",
       "      <th>Adj Close</th>\n",
       "      <th>Volume</th>\n",
       "    </tr>\n",
       "    <tr>\n",
       "      <th>Date</th>\n",
       "      <th></th>\n",
       "      <th></th>\n",
       "      <th></th>\n",
       "      <th></th>\n",
       "      <th></th>\n",
       "      <th></th>\n",
       "    </tr>\n",
       "  </thead>\n",
       "  <tbody>\n",
       "    <tr>\n",
       "      <th>2005-01-01</th>\n",
       "      <td>2410.850098</td>\n",
       "      <td>2449.860107</td>\n",
       "      <td>2393.300049</td>\n",
       "      <td>2441.219971</td>\n",
       "      <td>2441.219971</td>\n",
       "      <td>0</td>\n",
       "    </tr>\n",
       "    <tr>\n",
       "      <th>2005-02-01</th>\n",
       "      <td>2441.270020</td>\n",
       "      <td>2543.479980</td>\n",
       "      <td>2441.270020</td>\n",
       "      <td>2495.459961</td>\n",
       "      <td>2495.459961</td>\n",
       "      <td>0</td>\n",
       "    </tr>\n",
       "    <tr>\n",
       "      <th>2005-03-01</th>\n",
       "      <td>2495.459961</td>\n",
       "      <td>2529.159912</td>\n",
       "      <td>2452.340088</td>\n",
       "      <td>2457.729980</td>\n",
       "      <td>2457.729980</td>\n",
       "      <td>0</td>\n",
       "    </tr>\n",
       "    <tr>\n",
       "      <th>2005-04-01</th>\n",
       "      <td>2457.729980</td>\n",
       "      <td>2504.800049</td>\n",
       "      <td>2385.709961</td>\n",
       "      <td>2397.050049</td>\n",
       "      <td>2397.050049</td>\n",
       "      <td>0</td>\n",
       "    </tr>\n",
       "    <tr>\n",
       "      <th>2005-05-01</th>\n",
       "      <td>2397.129883</td>\n",
       "      <td>2497.510010</td>\n",
       "      <td>2397.129883</td>\n",
       "      <td>2483.350098</td>\n",
       "      <td>2483.350098</td>\n",
       "      <td>0</td>\n",
       "    </tr>\n",
       "  </tbody>\n",
       "</table>\n",
       "</div>"
      ],
      "text/plain": [
       "                   Open         High          Low        Close    Adj Close  \\\n",
       "Date                                                                          \n",
       "2005-01-01  2410.850098  2449.860107  2393.300049  2441.219971  2441.219971   \n",
       "2005-02-01  2441.270020  2543.479980  2441.270020  2495.459961  2495.459961   \n",
       "2005-03-01  2495.459961  2529.159912  2452.340088  2457.729980  2457.729980   \n",
       "2005-04-01  2457.729980  2504.800049  2385.709961  2397.050049  2397.050049   \n",
       "2005-05-01  2397.129883  2497.510010  2397.129883  2483.350098  2483.350098   \n",
       "\n",
       "            Volume  \n",
       "Date                \n",
       "2005-01-01       0  \n",
       "2005-02-01       0  \n",
       "2005-03-01       0  \n",
       "2005-04-01       0  \n",
       "2005-05-01       0  "
      ]
     },
     "execution_count": 33,
     "metadata": {},
     "output_type": "execute_result"
    }
   ],
   "source": [
    "#checking the first 5 rows\n",
    "df_stock.head()"
   ]
  },
  {
   "cell_type": "code",
   "execution_count": 34,
   "id": "d065032c",
   "metadata": {},
   "outputs": [
    {
     "data": {
      "text/html": [
       "<div>\n",
       "<style scoped>\n",
       "    .dataframe tbody tr th:only-of-type {\n",
       "        vertical-align: middle;\n",
       "    }\n",
       "\n",
       "    .dataframe tbody tr th {\n",
       "        vertical-align: top;\n",
       "    }\n",
       "\n",
       "    .dataframe thead th {\n",
       "        text-align: right;\n",
       "    }\n",
       "</style>\n",
       "<table border=\"1\" class=\"dataframe\">\n",
       "  <thead>\n",
       "    <tr style=\"text-align: right;\">\n",
       "      <th></th>\n",
       "      <th>Adj Close</th>\n",
       "    </tr>\n",
       "    <tr>\n",
       "      <th>Date</th>\n",
       "      <th></th>\n",
       "    </tr>\n",
       "  </thead>\n",
       "  <tbody>\n",
       "    <tr>\n",
       "      <th>2005-01-01</th>\n",
       "      <td>2441.219971</td>\n",
       "    </tr>\n",
       "    <tr>\n",
       "      <th>2005-02-01</th>\n",
       "      <td>2495.459961</td>\n",
       "    </tr>\n",
       "    <tr>\n",
       "      <th>2005-03-01</th>\n",
       "      <td>2457.729980</td>\n",
       "    </tr>\n",
       "    <tr>\n",
       "      <th>2005-04-01</th>\n",
       "      <td>2397.050049</td>\n",
       "    </tr>\n",
       "    <tr>\n",
       "      <th>2005-05-01</th>\n",
       "      <td>2483.350098</td>\n",
       "    </tr>\n",
       "  </tbody>\n",
       "</table>\n",
       "</div>"
      ],
      "text/plain": [
       "              Adj Close\n",
       "Date                   \n",
       "2005-01-01  2441.219971\n",
       "2005-02-01  2495.459961\n",
       "2005-03-01  2457.729980\n",
       "2005-04-01  2397.050049\n",
       "2005-05-01  2483.350098"
      ]
     },
     "execution_count": 34,
     "metadata": {},
     "output_type": "execute_result"
    }
   ],
   "source": [
    "#picking only adj close coloumn\n",
    "df_stock = df_stock[['Adj Close']]\n",
    "df_stock.head()"
   ]
  },
  {
   "cell_type": "code",
   "execution_count": 35,
   "id": "5caf0c46",
   "metadata": {},
   "outputs": [
    {
     "data": {
      "text/html": [
       "<div>\n",
       "<style scoped>\n",
       "    .dataframe tbody tr th:only-of-type {\n",
       "        vertical-align: middle;\n",
       "    }\n",
       "\n",
       "    .dataframe tbody tr th {\n",
       "        vertical-align: top;\n",
       "    }\n",
       "\n",
       "    .dataframe thead th {\n",
       "        text-align: right;\n",
       "    }\n",
       "</style>\n",
       "<table border=\"1\" class=\"dataframe\">\n",
       "  <thead>\n",
       "    <tr style=\"text-align: right;\">\n",
       "      <th></th>\n",
       "      <th>Adj Close</th>\n",
       "      <th>12m_change</th>\n",
       "    </tr>\n",
       "    <tr>\n",
       "      <th>Date</th>\n",
       "      <th></th>\n",
       "      <th></th>\n",
       "    </tr>\n",
       "  </thead>\n",
       "  <tbody>\n",
       "    <tr>\n",
       "      <th>2006-01-01</th>\n",
       "      <td>2928.560059</td>\n",
       "      <td>0.199630</td>\n",
       "    </tr>\n",
       "    <tr>\n",
       "      <th>2006-02-01</th>\n",
       "      <td>2956.120117</td>\n",
       "      <td>0.184599</td>\n",
       "    </tr>\n",
       "    <tr>\n",
       "      <th>2006-03-01</th>\n",
       "      <td>3047.959961</td>\n",
       "      <td>0.240152</td>\n",
       "    </tr>\n",
       "    <tr>\n",
       "      <th>2006-04-01</th>\n",
       "      <td>3074.260010</td>\n",
       "      <td>0.282518</td>\n",
       "    </tr>\n",
       "    <tr>\n",
       "      <th>2006-05-01</th>\n",
       "      <td>2916.850098</td>\n",
       "      <td>0.174563</td>\n",
       "    </tr>\n",
       "  </tbody>\n",
       "</table>\n",
       "</div>"
      ],
      "text/plain": [
       "              Adj Close  12m_change\n",
       "Date                               \n",
       "2006-01-01  2928.560059    0.199630\n",
       "2006-02-01  2956.120117    0.184599\n",
       "2006-03-01  3047.959961    0.240152\n",
       "2006-04-01  3074.260010    0.282518\n",
       "2006-05-01  2916.850098    0.174563"
      ]
     },
     "execution_count": 35,
     "metadata": {},
     "output_type": "execute_result"
    }
   ],
   "source": [
    "#adding column of percentage change\n",
    "df_stock['12m_change'] = df_stock.pct_change(periods=12)\n",
    "df_stock = df_stock.dropna()\n",
    "df_stock.head()"
   ]
  },
  {
   "cell_type": "code",
   "execution_count": 36,
   "id": "b4fbebb3",
   "metadata": {},
   "outputs": [
    {
     "data": {
      "image/png": "[encoded data removed]",
      "text/plain": [
       "<Figure size 432x288 with 1 Axes>"
      ]
     },
     "metadata": {
      "needs_background": "light"
     },
     "output_type": "display_data"
    }
   ],
   "source": [
    "#plotting the percentage change\n",
    "plt.plot(df_stock['12m_change'])\n",
    "plt.title('12 Month Change of FTSE All Share')\n",
    "plt.xlabel(\"Date\")\n",
    "plt.ylabel(\"percentage change\")\n",
    "plt.show()"
   ]
  },
  {
   "cell_type": "code",
   "execution_count": 37,
   "id": "48514402",
   "metadata": {},
   "outputs": [],
   "source": [
    "#reseting index\n",
    "df_stock.reset_index(inplace=True)"
   ]
  },
  {
   "cell_type": "code",
   "execution_count": 20,
   "id": "01bc7f0f",
   "metadata": {},
   "outputs": [
    {
     "data": {
      "text/html": [
       "<div>\n",
       "<style scoped>\n",
       "    .dataframe tbody tr th:only-of-type {\n",
       "        vertical-align: middle;\n",
       "    }\n",
       "\n",
       "    .dataframe tbody tr th {\n",
       "        vertical-align: top;\n",
       "    }\n",
       "\n",
       "    .dataframe thead th {\n",
       "        text-align: right;\n",
       "    }\n",
       "</style>\n",
       "<table border=\"1\" class=\"dataframe\">\n",
       "  <thead>\n",
       "    <tr style=\"text-align: right;\">\n",
       "      <th></th>\n",
       "      <th>Date</th>\n",
       "      <th>RegionName</th>\n",
       "      <th>AreaCode</th>\n",
       "      <th>AveragePrice</th>\n",
       "      <th>Index</th>\n",
       "      <th>IndexSA</th>\n",
       "      <th>1m%Change</th>\n",
       "      <th>12m%Change</th>\n",
       "      <th>AveragePriceSA</th>\n",
       "      <th>SalesVolume</th>\n",
       "      <th>...</th>\n",
       "      <th>NewPrice</th>\n",
       "      <th>NewIndex</th>\n",
       "      <th>New1m%Change</th>\n",
       "      <th>New12m%Change</th>\n",
       "      <th>NewSalesVolume</th>\n",
       "      <th>OldPrice</th>\n",
       "      <th>OldIndex</th>\n",
       "      <th>Old1m%Change</th>\n",
       "      <th>Old12m%Change</th>\n",
       "      <th>OldSalesVolume</th>\n",
       "    </tr>\n",
       "  </thead>\n",
       "  <tbody>\n",
       "    <tr>\n",
       "      <th>120732</th>\n",
       "      <td>1968-01-04</td>\n",
       "      <td>United Kingdom</td>\n",
       "      <td>K02000001</td>\n",
       "      <td>3594.602239</td>\n",
       "      <td>1.885299</td>\n",
       "      <td>NaN</td>\n",
       "      <td>NaN</td>\n",
       "      <td>NaN</td>\n",
       "      <td>NaN</td>\n",
       "      <td>NaN</td>\n",
       "      <td>...</td>\n",
       "      <td>NaN</td>\n",
       "      <td>NaN</td>\n",
       "      <td>NaN</td>\n",
       "      <td>NaN</td>\n",
       "      <td>NaN</td>\n",
       "      <td>NaN</td>\n",
       "      <td>NaN</td>\n",
       "      <td>NaN</td>\n",
       "      <td>NaN</td>\n",
       "      <td>NaN</td>\n",
       "    </tr>\n",
       "    <tr>\n",
       "      <th>120733</th>\n",
       "      <td>1968-01-05</td>\n",
       "      <td>United Kingdom</td>\n",
       "      <td>K02000001</td>\n",
       "      <td>3594.602239</td>\n",
       "      <td>1.885299</td>\n",
       "      <td>NaN</td>\n",
       "      <td>0.000000</td>\n",
       "      <td>NaN</td>\n",
       "      <td>NaN</td>\n",
       "      <td>NaN</td>\n",
       "      <td>...</td>\n",
       "      <td>NaN</td>\n",
       "      <td>NaN</td>\n",
       "      <td>NaN</td>\n",
       "      <td>NaN</td>\n",
       "      <td>NaN</td>\n",
       "      <td>NaN</td>\n",
       "      <td>NaN</td>\n",
       "      <td>NaN</td>\n",
       "      <td>NaN</td>\n",
       "      <td>NaN</td>\n",
       "    </tr>\n",
       "    <tr>\n",
       "      <th>120734</th>\n",
       "      <td>1968-01-06</td>\n",
       "      <td>United Kingdom</td>\n",
       "      <td>K02000001</td>\n",
       "      <td>3594.602239</td>\n",
       "      <td>1.885299</td>\n",
       "      <td>NaN</td>\n",
       "      <td>0.000000</td>\n",
       "      <td>NaN</td>\n",
       "      <td>NaN</td>\n",
       "      <td>NaN</td>\n",
       "      <td>...</td>\n",
       "      <td>NaN</td>\n",
       "      <td>NaN</td>\n",
       "      <td>NaN</td>\n",
       "      <td>NaN</td>\n",
       "      <td>NaN</td>\n",
       "      <td>NaN</td>\n",
       "      <td>NaN</td>\n",
       "      <td>NaN</td>\n",
       "      <td>NaN</td>\n",
       "      <td>NaN</td>\n",
       "    </tr>\n",
       "    <tr>\n",
       "      <th>120735</th>\n",
       "      <td>1968-01-07</td>\n",
       "      <td>United Kingdom</td>\n",
       "      <td>K02000001</td>\n",
       "      <td>3716.453163</td>\n",
       "      <td>1.949207</td>\n",
       "      <td>NaN</td>\n",
       "      <td>3.389831</td>\n",
       "      <td>NaN</td>\n",
       "      <td>NaN</td>\n",
       "      <td>NaN</td>\n",
       "      <td>...</td>\n",
       "      <td>NaN</td>\n",
       "      <td>NaN</td>\n",
       "      <td>NaN</td>\n",
       "      <td>NaN</td>\n",
       "      <td>NaN</td>\n",
       "      <td>NaN</td>\n",
       "      <td>NaN</td>\n",
       "      <td>NaN</td>\n",
       "      <td>NaN</td>\n",
       "      <td>NaN</td>\n",
       "    </tr>\n",
       "    <tr>\n",
       "      <th>120736</th>\n",
       "      <td>1968-01-08</td>\n",
       "      <td>United Kingdom</td>\n",
       "      <td>K02000001</td>\n",
       "      <td>3716.453163</td>\n",
       "      <td>1.949207</td>\n",
       "      <td>NaN</td>\n",
       "      <td>3.389831</td>\n",
       "      <td>NaN</td>\n",
       "      <td>NaN</td>\n",
       "      <td>NaN</td>\n",
       "      <td>...</td>\n",
       "      <td>NaN</td>\n",
       "      <td>NaN</td>\n",
       "      <td>NaN</td>\n",
       "      <td>NaN</td>\n",
       "      <td>NaN</td>\n",
       "      <td>NaN</td>\n",
       "      <td>NaN</td>\n",
       "      <td>NaN</td>\n",
       "      <td>NaN</td>\n",
       "      <td>NaN</td>\n",
       "    </tr>\n",
       "  </tbody>\n",
       "</table>\n",
       "<p>5 rows × 54 columns</p>\n",
       "</div>"
      ],
      "text/plain": [
       "             Date      RegionName   AreaCode  AveragePrice     Index  IndexSA  \\\n",
       "120732 1968-01-04  United Kingdom  K02000001   3594.602239  1.885299      NaN   \n",
       "120733 1968-01-05  United Kingdom  K02000001   3594.602239  1.885299      NaN   \n",
       "120734 1968-01-06  United Kingdom  K02000001   3594.602239  1.885299      NaN   \n",
       "120735 1968-01-07  United Kingdom  K02000001   3716.453163  1.949207      NaN   \n",
       "120736 1968-01-08  United Kingdom  K02000001   3716.453163  1.949207      NaN   \n",
       "\n",
       "        1m%Change  12m%Change  AveragePriceSA  SalesVolume  ...  NewPrice  \\\n",
       "120732        NaN         NaN             NaN          NaN  ...       NaN   \n",
       "120733   0.000000         NaN             NaN          NaN  ...       NaN   \n",
       "120734   0.000000         NaN             NaN          NaN  ...       NaN   \n",
       "120735   3.389831         NaN             NaN          NaN  ...       NaN   \n",
       "120736   3.389831         NaN             NaN          NaN  ...       NaN   \n",
       "\n",
       "        NewIndex  New1m%Change  New12m%Change  NewSalesVolume  OldPrice  \\\n",
       "120732       NaN           NaN            NaN             NaN       NaN   \n",
       "120733       NaN           NaN            NaN             NaN       NaN   \n",
       "120734       NaN           NaN            NaN             NaN       NaN   \n",
       "120735       NaN           NaN            NaN             NaN       NaN   \n",
       "120736       NaN           NaN            NaN             NaN       NaN   \n",
       "\n",
       "        OldIndex  Old1m%Change  Old12m%Change  OldSalesVolume  \n",
       "120732       NaN           NaN            NaN             NaN  \n",
       "120733       NaN           NaN            NaN             NaN  \n",
       "120734       NaN           NaN            NaN             NaN  \n",
       "120735       NaN           NaN            NaN             NaN  \n",
       "120736       NaN           NaN            NaN             NaN  \n",
       "\n",
       "[5 rows x 54 columns]"
      ]
     },
     "execution_count": 20,
     "metadata": {},
     "output_type": "execute_result"
    }
   ],
   "source": [
    "# importing the house price index data\n",
    "df_hp = pd.read_excel(\"C:/Users/hp/dissertation/Datasets/UK-HPI-full-file-2022-05_land_registry_1.xlsx\")\n",
    "df_hp = df_hp[df_hp.RegionName=='United Kingdom']\n",
    "df_hp.head()"
   ]
  },
  {
   "cell_type": "code",
   "execution_count": 21,
   "id": "72777071",
   "metadata": {},
   "outputs": [],
   "source": [
    "df_hp['Date'] = pd.to_datetime(df_hp['Date'])"
   ]
  },
  {
   "cell_type": "code",
   "execution_count": 23,
   "id": "0240e0fd",
   "metadata": {},
   "outputs": [
    {
     "data": {
      "text/html": [
       "<div>\n",
       "<style scoped>\n",
       "    .dataframe tbody tr th:only-of-type {\n",
       "        vertical-align: middle;\n",
       "    }\n",
       "\n",
       "    .dataframe tbody tr th {\n",
       "        vertical-align: top;\n",
       "    }\n",
       "\n",
       "    .dataframe thead th {\n",
       "        text-align: right;\n",
       "    }\n",
       "</style>\n",
       "<table border=\"1\" class=\"dataframe\">\n",
       "  <thead>\n",
       "    <tr style=\"text-align: right;\">\n",
       "      <th></th>\n",
       "      <th>Date</th>\n",
       "      <th>Index</th>\n",
       "      <th>12m%Change</th>\n",
       "    </tr>\n",
       "  </thead>\n",
       "  <tbody>\n",
       "    <tr>\n",
       "      <th>120732</th>\n",
       "      <td>1968-01-04</td>\n",
       "      <td>1.885299</td>\n",
       "      <td>NaN</td>\n",
       "    </tr>\n",
       "    <tr>\n",
       "      <th>120733</th>\n",
       "      <td>1968-01-05</td>\n",
       "      <td>1.885299</td>\n",
       "      <td>NaN</td>\n",
       "    </tr>\n",
       "    <tr>\n",
       "      <th>120734</th>\n",
       "      <td>1968-01-06</td>\n",
       "      <td>1.885299</td>\n",
       "      <td>NaN</td>\n",
       "    </tr>\n",
       "    <tr>\n",
       "      <th>120735</th>\n",
       "      <td>1968-01-07</td>\n",
       "      <td>1.949207</td>\n",
       "      <td>NaN</td>\n",
       "    </tr>\n",
       "    <tr>\n",
       "      <th>120736</th>\n",
       "      <td>1968-01-08</td>\n",
       "      <td>1.949207</td>\n",
       "      <td>NaN</td>\n",
       "    </tr>\n",
       "  </tbody>\n",
       "</table>\n",
       "</div>"
      ],
      "text/plain": [
       "             Date     Index  12m%Change\n",
       "120732 1968-01-04  1.885299         NaN\n",
       "120733 1968-01-05  1.885299         NaN\n",
       "120734 1968-01-06  1.885299         NaN\n",
       "120735 1968-01-07  1.949207         NaN\n",
       "120736 1968-01-08  1.949207         NaN"
      ]
     },
     "execution_count": 23,
     "metadata": {},
     "output_type": "execute_result"
    }
   ],
   "source": [
    "df_hp = df_hp[['Date','Index','12m%Change']]\n",
    "df_hp.head()"
   ]
  },
  {
   "cell_type": "code",
   "execution_count": 24,
   "id": "a4899825",
   "metadata": {},
   "outputs": [
    {
     "data": {
      "text/html": [
       "<div>\n",
       "<style scoped>\n",
       "    .dataframe tbody tr th:only-of-type {\n",
       "        vertical-align: middle;\n",
       "    }\n",
       "\n",
       "    .dataframe tbody tr th {\n",
       "        vertical-align: top;\n",
       "    }\n",
       "\n",
       "    .dataframe thead th {\n",
       "        text-align: right;\n",
       "    }\n",
       "</style>\n",
       "<table border=\"1\" class=\"dataframe\">\n",
       "  <thead>\n",
       "    <tr style=\"text-align: right;\">\n",
       "      <th></th>\n",
       "      <th>Index</th>\n",
       "      <th>12m%Change</th>\n",
       "    </tr>\n",
       "    <tr>\n",
       "      <th>Date</th>\n",
       "      <th></th>\n",
       "      <th></th>\n",
       "    </tr>\n",
       "  </thead>\n",
       "  <tbody>\n",
       "    <tr>\n",
       "      <th>1968-01-04</th>\n",
       "      <td>1.885299</td>\n",
       "      <td>NaN</td>\n",
       "    </tr>\n",
       "    <tr>\n",
       "      <th>1968-01-05</th>\n",
       "      <td>1.885299</td>\n",
       "      <td>NaN</td>\n",
       "    </tr>\n",
       "    <tr>\n",
       "      <th>1968-01-06</th>\n",
       "      <td>1.885299</td>\n",
       "      <td>NaN</td>\n",
       "    </tr>\n",
       "    <tr>\n",
       "      <th>1968-01-07</th>\n",
       "      <td>1.949207</td>\n",
       "      <td>NaN</td>\n",
       "    </tr>\n",
       "    <tr>\n",
       "      <th>1968-01-08</th>\n",
       "      <td>1.949207</td>\n",
       "      <td>NaN</td>\n",
       "    </tr>\n",
       "  </tbody>\n",
       "</table>\n",
       "</div>"
      ],
      "text/plain": [
       "               Index  12m%Change\n",
       "Date                            \n",
       "1968-01-04  1.885299         NaN\n",
       "1968-01-05  1.885299         NaN\n",
       "1968-01-06  1.885299         NaN\n",
       "1968-01-07  1.949207         NaN\n",
       "1968-01-08  1.949207         NaN"
      ]
     },
     "execution_count": 24,
     "metadata": {},
     "output_type": "execute_result"
    }
   ],
   "source": [
    "df_grouped = df_hp.groupby(['Date']).mean()\n",
    "df_grouped.head()"
   ]
  },
  {
   "cell_type": "code",
   "execution_count": 25,
   "id": "cc7ee6aa",
   "metadata": {},
   "outputs": [
    {
     "data": {
      "text/html": [
       "<div>\n",
       "<style scoped>\n",
       "    .dataframe tbody tr th:only-of-type {\n",
       "        vertical-align: middle;\n",
       "    }\n",
       "\n",
       "    .dataframe tbody tr th {\n",
       "        vertical-align: top;\n",
       "    }\n",
       "\n",
       "    .dataframe thead th {\n",
       "        text-align: right;\n",
       "    }\n",
       "</style>\n",
       "<table border=\"1\" class=\"dataframe\">\n",
       "  <thead>\n",
       "    <tr style=\"text-align: right;\">\n",
       "      <th></th>\n",
       "      <th>Index</th>\n",
       "      <th>12m%Change</th>\n",
       "    </tr>\n",
       "    <tr>\n",
       "      <th>Date</th>\n",
       "      <th></th>\n",
       "      <th></th>\n",
       "    </tr>\n",
       "  </thead>\n",
       "  <tbody>\n",
       "    <tr>\n",
       "      <th>2006-01-01</th>\n",
       "      <td>83.901066</td>\n",
       "      <td>6.198306</td>\n",
       "    </tr>\n",
       "    <tr>\n",
       "      <th>2006-01-02</th>\n",
       "      <td>84.038116</td>\n",
       "      <td>6.474110</td>\n",
       "    </tr>\n",
       "    <tr>\n",
       "      <th>2006-01-03</th>\n",
       "      <td>84.719601</td>\n",
       "      <td>6.464102</td>\n",
       "    </tr>\n",
       "    <tr>\n",
       "      <th>2006-01-04</th>\n",
       "      <td>86.561110</td>\n",
       "      <td>7.253262</td>\n",
       "    </tr>\n",
       "    <tr>\n",
       "      <th>2006-01-05</th>\n",
       "      <td>87.381441</td>\n",
       "      <td>7.119575</td>\n",
       "    </tr>\n",
       "  </tbody>\n",
       "</table>\n",
       "</div>"
      ],
      "text/plain": [
       "                Index  12m%Change\n",
       "Date                             \n",
       "2006-01-01  83.901066    6.198306\n",
       "2006-01-02  84.038116    6.474110\n",
       "2006-01-03  84.719601    6.464102\n",
       "2006-01-04  86.561110    7.253262\n",
       "2006-01-05  87.381441    7.119575"
      ]
     },
     "execution_count": 25,
     "metadata": {},
     "output_type": "execute_result"
    }
   ],
   "source": [
    "#picking the date from start='2005-12-01',end='2021-12-01'\n",
    "start='2005-12-01'\n",
    "end='2021-12-01'\n",
    "dates = (df_grouped.index > start) & (df_grouped.index <= end)\n",
    "df_grouped = df_grouped[dates]\n",
    "df_grouped.head()"
   ]
  },
  {
   "cell_type": "code",
   "execution_count": 26,
   "id": "b0d44d9c",
   "metadata": {},
   "outputs": [],
   "source": [
    "#reseting the index\n",
    "df_grouped.reset_index(inplace=True)"
   ]
  },
  {
   "cell_type": "code",
   "execution_count": 27,
   "id": "88341322",
   "metadata": {},
   "outputs": [],
   "source": [
    "#changing the date format\n",
    "# date in YYYY-MM-DD format\n",
    "df_grouped['Date'] = df_grouped['Date'].dt.strftime('%Y-%d-%m')"
   ]
  },
  {
   "cell_type": "code",
   "execution_count": 38,
   "id": "4ba6387e",
   "metadata": {},
   "outputs": [],
   "source": [
    "df_grouped[['stock_price','12m_change_stock']]= df_stock[['Adj Close','12m_change']]"
   ]
  },
  {
   "cell_type": "code",
   "execution_count": 39,
   "id": "7a282ed1",
   "metadata": {},
   "outputs": [
    {
     "data": {
      "text/html": [
       "<div>\n",
       "<style scoped>\n",
       "    .dataframe tbody tr th:only-of-type {\n",
       "        vertical-align: middle;\n",
       "    }\n",
       "\n",
       "    .dataframe tbody tr th {\n",
       "        vertical-align: top;\n",
       "    }\n",
       "\n",
       "    .dataframe thead th {\n",
       "        text-align: right;\n",
       "    }\n",
       "</style>\n",
       "<table border=\"1\" class=\"dataframe\">\n",
       "  <thead>\n",
       "    <tr style=\"text-align: right;\">\n",
       "      <th></th>\n",
       "      <th>Index</th>\n",
       "      <th>12m%Change</th>\n",
       "      <th>stock_price</th>\n",
       "      <th>12m_change_stock</th>\n",
       "    </tr>\n",
       "    <tr>\n",
       "      <th>Date</th>\n",
       "      <th></th>\n",
       "      <th></th>\n",
       "      <th></th>\n",
       "      <th></th>\n",
       "    </tr>\n",
       "  </thead>\n",
       "  <tbody>\n",
       "    <tr>\n",
       "      <th>2006-01-01</th>\n",
       "      <td>83.901066</td>\n",
       "      <td>6.198306</td>\n",
       "      <td>2928.560059</td>\n",
       "      <td>0.199630</td>\n",
       "    </tr>\n",
       "    <tr>\n",
       "      <th>2006-02-01</th>\n",
       "      <td>84.038116</td>\n",
       "      <td>6.474110</td>\n",
       "      <td>2956.120117</td>\n",
       "      <td>0.184599</td>\n",
       "    </tr>\n",
       "    <tr>\n",
       "      <th>2006-03-01</th>\n",
       "      <td>84.719601</td>\n",
       "      <td>6.464102</td>\n",
       "      <td>3047.959961</td>\n",
       "      <td>0.240152</td>\n",
       "    </tr>\n",
       "    <tr>\n",
       "      <th>2006-04-01</th>\n",
       "      <td>86.561110</td>\n",
       "      <td>7.253262</td>\n",
       "      <td>3074.260010</td>\n",
       "      <td>0.282518</td>\n",
       "    </tr>\n",
       "    <tr>\n",
       "      <th>2006-05-01</th>\n",
       "      <td>87.381441</td>\n",
       "      <td>7.119575</td>\n",
       "      <td>2916.850098</td>\n",
       "      <td>0.174563</td>\n",
       "    </tr>\n",
       "  </tbody>\n",
       "</table>\n",
       "</div>"
      ],
      "text/plain": [
       "                Index  12m%Change  stock_price  12m_change_stock\n",
       "Date                                                            \n",
       "2006-01-01  83.901066    6.198306  2928.560059          0.199630\n",
       "2006-02-01  84.038116    6.474110  2956.120117          0.184599\n",
       "2006-03-01  84.719601    6.464102  3047.959961          0.240152\n",
       "2006-04-01  86.561110    7.253262  3074.260010          0.282518\n",
       "2006-05-01  87.381441    7.119575  2916.850098          0.174563"
      ]
     },
     "execution_count": 39,
     "metadata": {},
     "output_type": "execute_result"
    }
   ],
   "source": [
    "df_grouped.set_index('Date',inplace=True)\n",
    "df_grouped.head()"
   ]
  },
  {
   "cell_type": "markdown",
   "id": "5df612a1",
   "metadata": {},
   "source": [
    "### Checking relationship between 12 month percentage change"
   ]
  },
  {
   "cell_type": "code",
   "execution_count": 40,
   "id": "41283f7c",
   "metadata": {},
   "outputs": [
    {
     "data": {
      "text/plain": [
       "<AxesSubplot:title={'center':'Plotting 12m %change between HPI and FTSE Stock'}, xlabel='Date'>"
      ]
     },
     "execution_count": 40,
     "metadata": {},
     "output_type": "execute_result"
    },
    {
     "data": {
      "image/png": "[encoded data removed]",
      "text/plain": [
       "<Figure size 432x288 with 1 Axes>"
      ]
     },
     "metadata": {
      "needs_background": "light"
     },
     "output_type": "display_data"
    }
   ],
   "source": [
    "#plotting the percentage changes\n",
    "df_grouped[['12m%Change','12m_change_stock']].plot(title='Plotting 12m %change between HPI and FTSE Stock')"
   ]
  },
  {
   "cell_type": "code",
   "execution_count": 41,
   "id": "097df308",
   "metadata": {},
   "outputs": [
    {
     "data": {
      "text/html": [
       "<div>\n",
       "<style scoped>\n",
       "    .dataframe tbody tr th:only-of-type {\n",
       "        vertical-align: middle;\n",
       "    }\n",
       "\n",
       "    .dataframe tbody tr th {\n",
       "        vertical-align: top;\n",
       "    }\n",
       "\n",
       "    .dataframe thead th {\n",
       "        text-align: right;\n",
       "    }\n",
       "</style>\n",
       "<table border=\"1\" class=\"dataframe\">\n",
       "  <thead>\n",
       "    <tr style=\"text-align: right;\">\n",
       "      <th></th>\n",
       "      <th>12m%Change</th>\n",
       "      <th>12m_change_stock</th>\n",
       "    </tr>\n",
       "  </thead>\n",
       "  <tbody>\n",
       "    <tr>\n",
       "      <th>12m%Change</th>\n",
       "      <td>1.000000</td>\n",
       "      <td>0.617493</td>\n",
       "    </tr>\n",
       "    <tr>\n",
       "      <th>12m_change_stock</th>\n",
       "      <td>0.617493</td>\n",
       "      <td>1.000000</td>\n",
       "    </tr>\n",
       "  </tbody>\n",
       "</table>\n",
       "</div>"
      ],
      "text/plain": [
       "                  12m%Change  12m_change_stock\n",
       "12m%Change          1.000000          0.617493\n",
       "12m_change_stock    0.617493          1.000000"
      ]
     },
     "execution_count": 41,
     "metadata": {},
     "output_type": "execute_result"
    }
   ],
   "source": [
    "#checking the correlation between HPI and stock\n",
    "df_grouped[['12m%Change','12m_change_stock']].corr()"
   ]
  },
  {
   "cell_type": "code",
   "execution_count": 42,
   "id": "62406d63",
   "metadata": {},
   "outputs": [
    {
     "data": {
      "image/png": "[encoded data removed]",
      "text/plain": [
       "<Figure size 432x288 with 1 Axes>"
      ]
     },
     "metadata": {
      "needs_background": "light"
     },
     "output_type": "display_data"
    }
   ],
   "source": [
    "#plotting the scatter plot chart\n",
    "plt.scatter(df_grouped['12m%Change'],df_grouped['12m_change_stock'])\n",
    "plt.xlabel(\"HPI\")\n",
    "plt.ylabel('Stock')\n",
    "plt.title('Scatter plot for HPI and Stock')\n",
    "plt.show()"
   ]
  },
  {
   "cell_type": "code",
   "execution_count": 44,
   "id": "1eb1a635",
   "metadata": {},
   "outputs": [
    {
     "data": {
      "text/plain": [
       "Text(0, 0.5, 'Stock')"
      ]
     },
     "execution_count": 44,
     "metadata": {},
     "output_type": "execute_result"
    },
    {
     "data": {
      "image/png": "[encoded data removed]",
      "text/plain": [
       "<Figure size 720x288 with 1 Axes>"
      ]
     },
     "metadata": {
      "needs_background": "light"
     },
     "output_type": "display_data"
    }
   ],
   "source": [
    "#using regression plot\n",
    "\n",
    "plt.figure(figsize=(10,4))\n",
    "\n",
    "# Scatterplot with regression lines\n",
    "sns.regplot(x='12m%Change', y='12m_change_stock', data=df_grouped, \n",
    "            marker='x')\n",
    "\n",
    "# Aesthetics\n",
    "plt.title('Scatterplot for Stock vs HPI with regression lines ')\n",
    "plt.xlabel('HPI')\n",
    "plt.ylabel('Stock')"
   ]
  },
  {
   "cell_type": "code",
   "execution_count": 45,
   "id": "60b7c64e",
   "metadata": {},
   "outputs": [
    {
     "name": "stdout",
     "output_type": "stream",
     "text": [
      "The slope of the regression line is:  0.02\n"
     ]
    }
   ],
   "source": [
    "#Slope of regression line\n",
    "\n",
    "slope, intercept, r_value, p_value, std_err = stats.linregress(df_grouped['12m%Change'],df_grouped['12m_change_stock'])\n",
    "\n",
    "print('The slope of the regression line is: ','{:.2f}'.format(slope))"
   ]
  },
  {
   "cell_type": "markdown",
   "id": "ed2cdbcc",
   "metadata": {},
   "source": [
    "#### Cross correlation Function"
   ]
  },
  {
   "cell_type": "markdown",
   "id": "ce3d64f3",
   "metadata": {},
   "source": [
    "Cross correlation is a way to measure the degree of similarity between a time series and a lagged version of another time series.\n",
    "\n",
    "This type of correlation is useful to calculate because it can tell us if the values of one time series are predictive of the future values of another time series. In other words, it can tell us if one time series is a leading indicator for another time series."
   ]
  },
  {
   "cell_type": "code",
   "execution_count": 46,
   "id": "30f4babe",
   "metadata": {},
   "outputs": [
    {
     "data": {
      "text/plain": [
       "array([ 6.17493316e-01,  5.83818174e-01,  5.31544366e-01,  4.66800264e-01,\n",
       "        3.88704336e-01,  2.98058552e-01,  2.10260947e-01,  1.16801076e-01,\n",
       "        2.71375896e-02, -5.80856811e-02, -1.42681440e-01, -2.16066267e-01,\n",
       "       -2.79896186e-01, -3.33684875e-01, -3.78388228e-01, -4.16823836e-01,\n",
       "       -4.41775220e-01, -4.60627231e-01, -4.70944136e-01, -4.74681779e-01,\n",
       "       -4.71576786e-01, -4.57490203e-01, -4.38305702e-01, -4.10989522e-01,\n",
       "       -3.77827420e-01, -3.36770681e-01, -2.88302261e-01, -2.34885922e-01,\n",
       "       -1.81556258e-01, -1.29589204e-01, -7.81772773e-02, -2.58169044e-02,\n",
       "        2.12862291e-02,  6.43921159e-02,  1.04382236e-01,  1.37157727e-01,\n",
       "        1.64607285e-01,  1.82045496e-01,  1.88208553e-01,  1.87728185e-01,\n",
       "        1.81272611e-01,  1.68521710e-01,  1.48876978e-01,  1.20939354e-01,\n",
       "        8.77435188e-02,  4.72029639e-02,  4.94711775e-03, -3.72781171e-02,\n",
       "       -8.01981758e-02, -1.18774881e-01, -1.54679913e-01, -1.84053968e-01,\n",
       "       -2.05761418e-01, -2.18139035e-01, -2.23357255e-01, -2.22535487e-01,\n",
       "       -2.12566033e-01, -1.97717308e-01, -1.82050615e-01, -1.64626460e-01,\n",
       "       -1.44496924e-01, -1.25049822e-01, -1.04976879e-01, -9.09473633e-02,\n",
       "       -7.97397708e-02, -7.29748294e-02, -6.78253819e-02, -6.29936678e-02,\n",
       "       -5.57288962e-02, -4.61550565e-02, -3.46959006e-02, -1.95504744e-02,\n",
       "       -1.23044989e-03,  2.01466130e-02,  4.23000009e-02,  7.22232958e-02,\n",
       "        1.04971829e-01,  1.39951437e-01,  1.72415977e-01,  2.04930459e-01,\n",
       "        2.31152452e-01,  2.52489655e-01,  2.66194064e-01,  2.72011156e-01,\n",
       "        2.70567712e-01,  2.60544133e-01,  2.45386620e-01,  2.21959618e-01,\n",
       "        1.92744813e-01,  1.58091462e-01,  1.22202126e-01,  8.19106237e-02,\n",
       "        4.22042974e-02,  1.99364762e-03, -3.21644703e-02, -6.25756477e-02,\n",
       "       -8.87325335e-02, -1.08290819e-01, -1.24137060e-01, -1.35314614e-01,\n",
       "       -1.41864181e-01, -1.41380825e-01, -1.38102377e-01, -1.27755865e-01,\n",
       "       -1.15754105e-01, -9.74792659e-02, -7.95459987e-02, -6.17172961e-02,\n",
       "       -3.91732953e-02, -1.89419664e-02,  3.17465745e-03,  2.49279781e-02,\n",
       "        4.43244816e-02,  5.74190822e-02,  6.84364604e-02,  7.55322760e-02,\n",
       "        7.95897185e-02,  7.92650462e-02,  7.55053706e-02,  7.07705669e-02,\n",
       "        6.07816532e-02,  5.26942710e-02,  4.50513339e-02,  3.90068783e-02,\n",
       "        3.76798589e-02,  4.25341993e-02,  5.26685324e-02,  6.84712240e-02,\n",
       "        9.03743401e-02,  1.15166627e-01,  1.43346592e-01,  1.72916257e-01,\n",
       "        2.00326854e-01,  2.25034417e-01,  2.44059218e-01,  2.56524252e-01,\n",
       "        2.60660067e-01,  2.52632734e-01,  2.36545286e-01,  2.09540837e-01,\n",
       "        1.72123149e-01,  1.26941176e-01,  7.78171383e-02,  2.84099136e-02,\n",
       "       -2.11132230e-02, -6.81367710e-02, -1.12746575e-01, -1.52040535e-01,\n",
       "       -1.87304739e-01, -2.13036717e-01, -2.31651984e-01, -2.43791033e-01,\n",
       "       -2.47261419e-01, -2.43868360e-01, -2.35018772e-01, -2.23009730e-01,\n",
       "       -2.06136784e-01, -1.89111097e-01, -1.69747274e-01, -1.50634763e-01,\n",
       "       -1.29683170e-01, -1.08126051e-01, -8.86815741e-02, -6.88887739e-02,\n",
       "       -5.05969261e-02, -3.43888441e-02, -2.00223149e-02, -8.66608196e-03,\n",
       "        2.76829185e-04,  9.43088452e-03,  1.81129091e-02,  2.80606229e-02,\n",
       "        3.54597534e-02,  4.00727080e-02,  4.34382308e-02,  4.68140859e-02,\n",
       "        4.79846398e-02,  4.97222439e-02,  5.12232262e-02,  5.04731379e-02,\n",
       "        4.91339128e-02,  4.70813302e-02,  4.38497944e-02,  3.72357745e-02,\n",
       "        3.16187403e-02,  2.70244942e-02,  2.31715484e-02,  1.79646182e-02,\n",
       "        1.37262736e-02,  9.07870680e-03,  3.94642674e-03,  1.96074943e-03])"
      ]
     },
     "execution_count": 46,
     "metadata": {},
     "output_type": "execute_result"
    }
   ],
   "source": [
    "#calculate cross correlation\n",
    "sm.tsa.stattools.ccf(df_grouped['12m_change_stock'],df_grouped['12m%Change'], adjusted=False)"
   ]
  },
  {
   "cell_type": "markdown",
   "id": "49943946",
   "metadata": {},
   "source": [
    "## Checking the relationship between the actual values"
   ]
  },
  {
   "cell_type": "code",
   "execution_count": 47,
   "id": "805ae9ba",
   "metadata": {},
   "outputs": [
    {
     "data": {
      "text/plain": [
       "<AxesSubplot:title={'center':'Plotting HPI and FTSE Stock'}, xlabel='Date'>"
      ]
     },
     "execution_count": 47,
     "metadata": {},
     "output_type": "execute_result"
    },
    {
     "data": {
      "image/png": "[encoded data removed]",
      "text/plain": [
       "<Figure size 432x288 with 1 Axes>"
      ]
     },
     "metadata": {
      "needs_background": "light"
     },
     "output_type": "display_data"
    }
   ],
   "source": [
    "df_grouped[['Index','stock_price']].plot(title='Plotting HPI and FTSE Stock')"
   ]
  },
  {
   "cell_type": "code",
   "execution_count": 48,
   "id": "68ef660f",
   "metadata": {},
   "outputs": [
    {
     "data": {
      "text/html": [
       "<div>\n",
       "<style scoped>\n",
       "    .dataframe tbody tr th:only-of-type {\n",
       "        vertical-align: middle;\n",
       "    }\n",
       "\n",
       "    .dataframe tbody tr th {\n",
       "        vertical-align: top;\n",
       "    }\n",
       "\n",
       "    .dataframe thead th {\n",
       "        text-align: right;\n",
       "    }\n",
       "</style>\n",
       "<table border=\"1\" class=\"dataframe\">\n",
       "  <thead>\n",
       "    <tr style=\"text-align: right;\">\n",
       "      <th></th>\n",
       "      <th>Index</th>\n",
       "      <th>stock_price</th>\n",
       "    </tr>\n",
       "  </thead>\n",
       "  <tbody>\n",
       "    <tr>\n",
       "      <th>Index</th>\n",
       "      <td>1.000000</td>\n",
       "      <td>0.791837</td>\n",
       "    </tr>\n",
       "    <tr>\n",
       "      <th>stock_price</th>\n",
       "      <td>0.791837</td>\n",
       "      <td>1.000000</td>\n",
       "    </tr>\n",
       "  </tbody>\n",
       "</table>\n",
       "</div>"
      ],
      "text/plain": [
       "                Index  stock_price\n",
       "Index        1.000000     0.791837\n",
       "stock_price  0.791837     1.000000"
      ]
     },
     "execution_count": 48,
     "metadata": {},
     "output_type": "execute_result"
    }
   ],
   "source": [
    "#checking the correlation between HPI and stock\n",
    "df_grouped[['Index','stock_price']].corr()"
   ]
  },
  {
   "cell_type": "code",
   "execution_count": 49,
   "id": "ceb93c40",
   "metadata": {},
   "outputs": [
    {
     "data": {
      "image/png": "[encoded data removed]",
      "text/plain": [
       "<Figure size 432x288 with 1 Axes>"
      ]
     },
     "metadata": {
      "needs_background": "light"
     },
     "output_type": "display_data"
    }
   ],
   "source": [
    "#plotting the scatter plot chart\n",
    "plt.scatter(df_grouped['Index'],df_grouped['stock_price'])\n",
    "plt.xlabel(\"HPI\")\n",
    "plt.ylabel('Stock')\n",
    "plt.title('Scatter plot for HPI and Stock')\n",
    "plt.show()"
   ]
  },
  {
   "cell_type": "code",
   "execution_count": 50,
   "id": "91eead55",
   "metadata": {},
   "outputs": [
    {
     "data": {
      "text/plain": [
       "array([ 0.79183722,  0.77083861,  0.74962364,  0.72933451,  0.70640946,\n",
       "        0.68231664,  0.66015997,  0.63402567,  0.61154975,  0.58969166,\n",
       "        0.56715959,  0.54561373,  0.5255183 ,  0.50540657,  0.48683798,\n",
       "        0.47064799,  0.45705734,  0.44578838,  0.4347354 ,  0.42397655,\n",
       "        0.41417178,  0.40656508,  0.40049932,  0.39368132,  0.38742164,\n",
       "        0.37760429,  0.36942906,  0.36127572,  0.35590226,  0.35010396,\n",
       "        0.34124488,  0.33235204,  0.32460879,  0.31145261,  0.29490783,\n",
       "        0.27665756,  0.25923575,  0.238308  ,  0.21501383,  0.19227209,\n",
       "        0.17149012,  0.15052943,  0.12745641,  0.10637051,  0.08660053,\n",
       "        0.06736751,  0.0480608 ,  0.02873494,  0.01112546, -0.0079688 ,\n",
       "       -0.02508637, -0.03904246, -0.05277152, -0.0683515 , -0.08524061,\n",
       "       -0.09911727, -0.11223256, -0.12269098, -0.13160455, -0.14155402,\n",
       "       -0.14841764, -0.1556659 , -0.16164299, -0.16778256, -0.17294349,\n",
       "       -0.17853151, -0.18487867, -0.19156917, -0.20070551, -0.21110602,\n",
       "       -0.21910087, -0.22688112, -0.23392837, -0.24055176, -0.24561459,\n",
       "       -0.25000596, -0.25447959, -0.26148057, -0.2674242 , -0.2719674 ,\n",
       "       -0.27634245, -0.28076252, -0.28565176, -0.29123786, -0.29686347,\n",
       "       -0.30247783, -0.30759037, -0.31303806, -0.31893518, -0.32410031,\n",
       "       -0.33197892, -0.33653068, -0.34225752, -0.34724491, -0.3492404 ,\n",
       "       -0.35152022, -0.35220472, -0.35487877, -0.35457082, -0.354793  ,\n",
       "       -0.35360204, -0.35108811, -0.34889068, -0.34521559, -0.34043908,\n",
       "       -0.3359884 , -0.33174328, -0.32615603, -0.3206304 , -0.31525364,\n",
       "       -0.30810309, -0.30165643, -0.29411766, -0.28672089, -0.28227348,\n",
       "       -0.27634182, -0.27299739, -0.27102184, -0.26717675, -0.26312354,\n",
       "       -0.26046006, -0.2604052 , -0.2610485 , -0.26137278, -0.26134961,\n",
       "       -0.26137586, -0.26006447, -0.2559818 , -0.25072526, -0.24494194,\n",
       "       -0.23844269, -0.23276424, -0.22551661, -0.21964957, -0.21359387,\n",
       "       -0.2083953 , -0.20435286, -0.19998126, -0.19797092, -0.19620762,\n",
       "       -0.19512197, -0.19485793, -0.19367323, -0.19297198, -0.18998479,\n",
       "       -0.18864867, -0.18916803, -0.19032615, -0.18740897, -0.18203808,\n",
       "       -0.17553488, -0.16696957, -0.15895187, -0.14908475, -0.14070149,\n",
       "       -0.13231401, -0.12531954, -0.11754146, -0.10908302, -0.10030583,\n",
       "       -0.09059343, -0.08352102, -0.07594653, -0.06770877, -0.06229965,\n",
       "       -0.05542088, -0.04903824, -0.0417252 , -0.0329449 , -0.02709561,\n",
       "       -0.02631644, -0.03248938, -0.0370979 , -0.04098006, -0.04438794,\n",
       "       -0.04899645, -0.05295613, -0.05779829, -0.0635486 , -0.06459008,\n",
       "       -0.06415184, -0.06451772, -0.06375955, -0.06132642, -0.05687868,\n",
       "       -0.05196498, -0.04677703, -0.04084555, -0.03353088, -0.02656401,\n",
       "       -0.01786416, -0.01005248])"
      ]
     },
     "execution_count": 50,
     "metadata": {},
     "output_type": "execute_result"
    }
   ],
   "source": [
    "\n",
    "#calculate cross correlation\n",
    "sm.tsa.stattools.ccf(df_grouped['stock_price'],df_grouped['Index'], adjusted=False)"
   ]
  },
  {
   "cell_type": "markdown",
   "id": "6b7d175a",
   "metadata": {},
   "source": [
    "Notice that the correlation between the two time series becomes less and less positive as the number of lags increases. This tells us that Stock Market price during a given month is quite predictive of house price index"
   ]
  },
  {
   "cell_type": "code",
   "execution_count": 52,
   "id": "9ab282e6",
   "metadata": {},
   "outputs": [
    {
     "data": {
      "text/plain": [
       "Text(0, 0.5, 'Stock')"
      ]
     },
     "execution_count": 52,
     "metadata": {},
     "output_type": "execute_result"
    },
    {
     "data": {
      "image/png": "[encoded data removed]",
      "text/plain": [
       "<Figure size 720x288 with 1 Axes>"
      ]
     },
     "metadata": {
      "needs_background": "light"
     },
     "output_type": "display_data"
    }
   ],
   "source": [
    "#using regression plot\n",
    "\n",
    "plt.figure(figsize=(10,4))\n",
    "\n",
    "# Scatterplot with regression lines\n",
    "sns.regplot(x='Index', y='stock_price', data=df_grouped, \n",
    "            marker='x')\n",
    "\n",
    "# Aesthetics\n",
    "plt.title('Scatterplot for Stock vs HPI with regression lines ')\n",
    "plt.xlabel('HPI')\n",
    "plt.ylabel('Stock')"
   ]
  },
  {
   "cell_type": "code",
   "execution_count": 53,
   "id": "31c93bbc",
   "metadata": {},
   "outputs": [
    {
     "name": "stdout",
     "output_type": "stream",
     "text": [
      "The slope of the regression line is:  26.70\n"
     ]
    }
   ],
   "source": [
    "#Slope of regression line\n",
    "\n",
    "slope, intercept, r_value, p_value, std_err = stats.linregress(df_grouped['Index'],df_grouped['stock_price'])\n",
    "\n",
    "print('The slope of the regression line is: ','{:.2f}'.format(slope))"
   ]
  },
  {
   "cell_type": "markdown",
   "id": "e13f966c",
   "metadata": {},
   "source": [
    "### We can see that Stock market has a positive impact on the House Price Index"
   ]
  }
 ],
 "metadata": {
  "kernelspec": {
   "display_name": "Python 3 (ipykernel)",
   "language": "python",
   "name": "python3"
  },
  "language_info": {
   "codemirror_mode": {
    "name": "ipython",
    "version": 3
   },
   "file_extension": ".py",
   "mimetype": "text/x-python",
   "name": "python",
   "nbconvert_exporter": "python",
   "pygments_lexer": "ipython3",
   "version": "3.9.7"
  }
 },
 "nbformat": 4,
 "nbformat_minor": 5
}
