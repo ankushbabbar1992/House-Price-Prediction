{
 "cells": [
  {
   "cell_type": "markdown",
   "id": "dce75332",
   "metadata": {},
   "source": [
    "### <center> Hypothesis III: Economy (GDP: Gross Domestic Product) vs House Price Index(HPI)\n",
    "GDP Data Source : https://data.worldbank.org/indicator/NY.GDP.MKTP.KD.ZG?locations=GB"
   ]
  },
  {
   "cell_type": "code",
   "execution_count": 3,
   "id": "e7057204",
   "metadata": {},
   "outputs": [],
   "source": [
    "#importing various libraries\n",
    "import pandas as pd\n",
    "import seaborn as sns\n",
    "import numpy as np\n",
    "import matplotlib.pyplot as plt\n",
    "from statsmodels.tsa.stattools import grangercausalitytests, adfuller\n",
    "from pandas.plotting import lag_plot\n",
    "from statsmodels.tsa.api import VAR\n",
    "import warnings\n",
    "warnings.filterwarnings('ignore')"
   ]
  },
  {
   "cell_type": "code",
   "execution_count": 4,
   "id": "0fbb98c8",
   "metadata": {},
   "outputs": [
    {
     "data": {
      "text/html": [
       "<div>\n",
       "<style scoped>\n",
       "    .dataframe tbody tr th:only-of-type {\n",
       "        vertical-align: middle;\n",
       "    }\n",
       "\n",
       "    .dataframe tbody tr th {\n",
       "        vertical-align: top;\n",
       "    }\n",
       "\n",
       "    .dataframe thead th {\n",
       "        text-align: right;\n",
       "    }\n",
       "</style>\n",
       "<table border=\"1\" class=\"dataframe\">\n",
       "  <thead>\n",
       "    <tr style=\"text-align: right;\">\n",
       "      <th></th>\n",
       "      <th>GDP_growth_annual%</th>\n",
       "      <th>Year</th>\n",
       "    </tr>\n",
       "  </thead>\n",
       "  <tbody>\n",
       "    <tr>\n",
       "      <th>0</th>\n",
       "      <td>5.441083</td>\n",
       "      <td>1968</td>\n",
       "    </tr>\n",
       "    <tr>\n",
       "      <th>1</th>\n",
       "      <td>1.924097</td>\n",
       "      <td>1969</td>\n",
       "    </tr>\n",
       "    <tr>\n",
       "      <th>2</th>\n",
       "      <td>6.317907</td>\n",
       "      <td>1970</td>\n",
       "    </tr>\n",
       "    <tr>\n",
       "      <th>3</th>\n",
       "      <td>3.504717</td>\n",
       "      <td>1971</td>\n",
       "    </tr>\n",
       "    <tr>\n",
       "      <th>4</th>\n",
       "      <td>4.321668</td>\n",
       "      <td>1972</td>\n",
       "    </tr>\n",
       "  </tbody>\n",
       "</table>\n",
       "</div>"
      ],
      "text/plain": [
       "   GDP_growth_annual%  Year\n",
       "0            5.441083  1968\n",
       "1            1.924097  1969\n",
       "2            6.317907  1970\n",
       "3            3.504717  1971\n",
       "4            4.321668  1972"
      ]
     },
     "execution_count": 4,
     "metadata": {},
     "output_type": "execute_result"
    }
   ],
   "source": [
    "# reading the excel file which contains GDP data\n",
    "df_gdp = pd.read_excel(r'C:/Users/hp/dissertation/Datasets/GDP.xls',sheet_name=\"Sheet1\")\n",
    "df_gdp.head()"
   ]
  },
  {
   "cell_type": "code",
   "execution_count": 5,
   "id": "7ec944a2",
   "metadata": {},
   "outputs": [
    {
     "data": {
      "text/html": [
       "<div>\n",
       "<style scoped>\n",
       "    .dataframe tbody tr th:only-of-type {\n",
       "        vertical-align: middle;\n",
       "    }\n",
       "\n",
       "    .dataframe tbody tr th {\n",
       "        vertical-align: top;\n",
       "    }\n",
       "\n",
       "    .dataframe thead th {\n",
       "        text-align: right;\n",
       "    }\n",
       "</style>\n",
       "<table border=\"1\" class=\"dataframe\">\n",
       "  <thead>\n",
       "    <tr style=\"text-align: right;\">\n",
       "      <th></th>\n",
       "      <th>GDP_growth_annual%</th>\n",
       "      <th>Year</th>\n",
       "    </tr>\n",
       "  </thead>\n",
       "  <tbody>\n",
       "    <tr>\n",
       "      <th>count</th>\n",
       "      <td>54.000000</td>\n",
       "      <td>54.000000</td>\n",
       "    </tr>\n",
       "    <tr>\n",
       "      <th>mean</th>\n",
       "      <td>2.242827</td>\n",
       "      <td>1994.500000</td>\n",
       "    </tr>\n",
       "    <tr>\n",
       "      <th>std</th>\n",
       "      <td>2.725545</td>\n",
       "      <td>15.732133</td>\n",
       "    </tr>\n",
       "    <tr>\n",
       "      <th>min</th>\n",
       "      <td>-9.270411</td>\n",
       "      <td>1968.000000</td>\n",
       "    </tr>\n",
       "    <tr>\n",
       "      <th>25%</th>\n",
       "      <td>1.726463</td>\n",
       "      <td>1981.250000</td>\n",
       "    </tr>\n",
       "    <tr>\n",
       "      <th>50%</th>\n",
       "      <td>2.473791</td>\n",
       "      <td>1994.500000</td>\n",
       "    </tr>\n",
       "    <tr>\n",
       "      <th>75%</th>\n",
       "      <td>3.630456</td>\n",
       "      <td>2007.750000</td>\n",
       "    </tr>\n",
       "    <tr>\n",
       "      <th>max</th>\n",
       "      <td>7.441273</td>\n",
       "      <td>2021.000000</td>\n",
       "    </tr>\n",
       "  </tbody>\n",
       "</table>\n",
       "</div>"
      ],
      "text/plain": [
       "       GDP_growth_annual%         Year\n",
       "count           54.000000    54.000000\n",
       "mean             2.242827  1994.500000\n",
       "std              2.725545    15.732133\n",
       "min             -9.270411  1968.000000\n",
       "25%              1.726463  1981.250000\n",
       "50%              2.473791  1994.500000\n",
       "75%              3.630456  2007.750000\n",
       "max              7.441273  2021.000000"
      ]
     },
     "execution_count": 5,
     "metadata": {},
     "output_type": "execute_result"
    }
   ],
   "source": [
    "# checking the statistics \n",
    "df_gdp.describe()"
   ]
  },
  {
   "cell_type": "markdown",
   "id": "5c202efe",
   "metadata": {},
   "source": [
    "We can see from the above table , that maximum GDP is 7.44 whereas the minium is -9.27 with a mean of 2.24 and standard deviation of 2.73"
   ]
  },
  {
   "cell_type": "code",
   "execution_count": 6,
   "id": "77d37444",
   "metadata": {},
   "outputs": [
    {
     "name": "stdout",
     "output_type": "stream",
     "text": [
      "Starting year of GDP data : 1968\n",
      "Ending year of GDP data : 2021\n"
     ]
    }
   ],
   "source": [
    "#checking the dataset year\n",
    "print(\"Starting year of GDP data :\",df_gdp.Year.min())\n",
    "print(\"Ending year of GDP data :\",df_gdp.Year.max())"
   ]
  },
  {
   "cell_type": "code",
   "execution_count": 7,
   "id": "5196eda2",
   "metadata": {},
   "outputs": [
    {
     "data": {
      "image/png": "[encoded data removed]",
      "text/plain": [
       "<Figure size 864x288 with 1 Axes>"
      ]
     },
     "metadata": {},
     "output_type": "display_data"
    }
   ],
   "source": [
    "#plotting the GDP data\n",
    "sns.set_theme(style=\"darkgrid\")\n",
    "plt.figure(figsize=(12,4))\n",
    "sns.lineplot(data = df_gdp, x='Year',y='GDP_growth_annual%',err_style='bars',color='red')\n",
    "plt.scatter(df_gdp['Year'],df_gdp['GDP_growth_annual%'])\n",
    "plt.title(\"UK GDP Data(1960-2022) \",fontdict={'fontsize':20})\n",
    "plt.xlabel(\"Year\")\n",
    "plt.ylabel('GDP')\n",
    "plt.show()"
   ]
  },
  {
   "cell_type": "markdown",
   "id": "a5626616",
   "metadata": {},
   "source": [
    "We can see that there was a dip around 2008 due to financial crisis and in 2020 due to COVID-19.\n",
    "### UK HPI Data"
   ]
  },
  {
   "cell_type": "code",
   "execution_count": 8,
   "id": "4183331e",
   "metadata": {},
   "outputs": [
    {
     "data": {
      "text/html": [
       "<div>\n",
       "<style scoped>\n",
       "    .dataframe tbody tr th:only-of-type {\n",
       "        vertical-align: middle;\n",
       "    }\n",
       "\n",
       "    .dataframe tbody tr th {\n",
       "        vertical-align: top;\n",
       "    }\n",
       "\n",
       "    .dataframe thead th {\n",
       "        text-align: right;\n",
       "    }\n",
       "</style>\n",
       "<table border=\"1\" class=\"dataframe\">\n",
       "  <thead>\n",
       "    <tr style=\"text-align: right;\">\n",
       "      <th></th>\n",
       "      <th>Date</th>\n",
       "      <th>Region_Name</th>\n",
       "      <th>Area_Code</th>\n",
       "      <th>Index</th>\n",
       "    </tr>\n",
       "  </thead>\n",
       "  <tbody>\n",
       "    <tr>\n",
       "      <th>0</th>\n",
       "      <td>1968-04-01</td>\n",
       "      <td>England</td>\n",
       "      <td>E92000001</td>\n",
       "      <td>1.680067</td>\n",
       "    </tr>\n",
       "    <tr>\n",
       "      <th>1</th>\n",
       "      <td>1968-04-01</td>\n",
       "      <td>Scotland</td>\n",
       "      <td>S92000003</td>\n",
       "      <td>2.108087</td>\n",
       "    </tr>\n",
       "    <tr>\n",
       "      <th>2</th>\n",
       "      <td>1968-04-01</td>\n",
       "      <td>Northern Ireland</td>\n",
       "      <td>N92000001</td>\n",
       "      <td>3.300420</td>\n",
       "    </tr>\n",
       "    <tr>\n",
       "      <th>3</th>\n",
       "      <td>1968-04-01</td>\n",
       "      <td>Wales</td>\n",
       "      <td>W92000004</td>\n",
       "      <td>2.119327</td>\n",
       "    </tr>\n",
       "    <tr>\n",
       "      <th>4</th>\n",
       "      <td>1968-04-01</td>\n",
       "      <td>West Midlands Region</td>\n",
       "      <td>E12000005</td>\n",
       "      <td>2.097808</td>\n",
       "    </tr>\n",
       "  </tbody>\n",
       "</table>\n",
       "</div>"
      ],
      "text/plain": [
       "         Date           Region_Name  Area_Code     Index\n",
       "0  1968-04-01               England  E92000001  1.680067\n",
       "1  1968-04-01              Scotland  S92000003  2.108087\n",
       "2  1968-04-01      Northern Ireland  N92000001  3.300420\n",
       "3  1968-04-01                 Wales  W92000004  2.119327\n",
       "4  1968-04-01  West Midlands Region  E12000005  2.097808"
      ]
     },
     "execution_count": 8,
     "metadata": {},
     "output_type": "execute_result"
    }
   ],
   "source": [
    "#importing the dataset for HPI \n",
    "df_HPI = pd.read_csv(r'C:/Users/hp/dissertation/Datasets/Indices-2022-05_ONS.csv')\n",
    "df_HPI.head()"
   ]
  },
  {
   "cell_type": "code",
   "execution_count": 9,
   "id": "c50d3a07",
   "metadata": {},
   "outputs": [
    {
     "data": {
      "text/html": [
       "<div>\n",
       "<style scoped>\n",
       "    .dataframe tbody tr th:only-of-type {\n",
       "        vertical-align: middle;\n",
       "    }\n",
       "\n",
       "    .dataframe tbody tr th {\n",
       "        vertical-align: top;\n",
       "    }\n",
       "\n",
       "    .dataframe thead th {\n",
       "        text-align: right;\n",
       "    }\n",
       "</style>\n",
       "<table border=\"1\" class=\"dataframe\">\n",
       "  <thead>\n",
       "    <tr style=\"text-align: right;\">\n",
       "      <th></th>\n",
       "      <th>Date</th>\n",
       "      <th>Region_Name</th>\n",
       "      <th>Area_Code</th>\n",
       "      <th>Index</th>\n",
       "    </tr>\n",
       "  </thead>\n",
       "  <tbody>\n",
       "    <tr>\n",
       "      <th>9</th>\n",
       "      <td>1968-04-01</td>\n",
       "      <td>United Kingdom</td>\n",
       "      <td>K02000001</td>\n",
       "      <td>1.885299</td>\n",
       "    </tr>\n",
       "    <tr>\n",
       "      <th>19</th>\n",
       "      <td>1968-05-01</td>\n",
       "      <td>United Kingdom</td>\n",
       "      <td>K02000001</td>\n",
       "      <td>1.885299</td>\n",
       "    </tr>\n",
       "    <tr>\n",
       "      <th>29</th>\n",
       "      <td>1968-06-01</td>\n",
       "      <td>United Kingdom</td>\n",
       "      <td>K02000001</td>\n",
       "      <td>1.885299</td>\n",
       "    </tr>\n",
       "    <tr>\n",
       "      <th>39</th>\n",
       "      <td>1968-07-01</td>\n",
       "      <td>United Kingdom</td>\n",
       "      <td>K02000001</td>\n",
       "      <td>1.949207</td>\n",
       "    </tr>\n",
       "    <tr>\n",
       "      <th>49</th>\n",
       "      <td>1968-08-01</td>\n",
       "      <td>United Kingdom</td>\n",
       "      <td>K02000001</td>\n",
       "      <td>1.949207</td>\n",
       "    </tr>\n",
       "  </tbody>\n",
       "</table>\n",
       "</div>"
      ],
      "text/plain": [
       "          Date     Region_Name  Area_Code     Index\n",
       "9   1968-04-01  United Kingdom  K02000001  1.885299\n",
       "19  1968-05-01  United Kingdom  K02000001  1.885299\n",
       "29  1968-06-01  United Kingdom  K02000001  1.885299\n",
       "39  1968-07-01  United Kingdom  K02000001  1.949207\n",
       "49  1968-08-01  United Kingdom  K02000001  1.949207"
      ]
     },
     "execution_count": 9,
     "metadata": {},
     "output_type": "execute_result"
    }
   ],
   "source": [
    "# Since , we want for the United Kingdom , we would require to filter the region_name to united kingdom\n",
    "df_HPI = df_HPI[df_HPI.Region_Name == 'United Kingdom']\n",
    "df_HPI.head()"
   ]
  },
  {
   "cell_type": "code",
   "execution_count": 10,
   "id": "e2925e1b",
   "metadata": {},
   "outputs": [
    {
     "data": {
      "text/html": [
       "<div>\n",
       "<style scoped>\n",
       "    .dataframe tbody tr th:only-of-type {\n",
       "        vertical-align: middle;\n",
       "    }\n",
       "\n",
       "    .dataframe tbody tr th {\n",
       "        vertical-align: top;\n",
       "    }\n",
       "\n",
       "    .dataframe thead th {\n",
       "        text-align: right;\n",
       "    }\n",
       "</style>\n",
       "<table border=\"1\" class=\"dataframe\">\n",
       "  <thead>\n",
       "    <tr style=\"text-align: right;\">\n",
       "      <th></th>\n",
       "      <th>Date</th>\n",
       "      <th>Index</th>\n",
       "    </tr>\n",
       "  </thead>\n",
       "  <tbody>\n",
       "    <tr>\n",
       "      <th>9</th>\n",
       "      <td>1968-04-01</td>\n",
       "      <td>1.885299</td>\n",
       "    </tr>\n",
       "    <tr>\n",
       "      <th>19</th>\n",
       "      <td>1968-05-01</td>\n",
       "      <td>1.885299</td>\n",
       "    </tr>\n",
       "    <tr>\n",
       "      <th>29</th>\n",
       "      <td>1968-06-01</td>\n",
       "      <td>1.885299</td>\n",
       "    </tr>\n",
       "    <tr>\n",
       "      <th>39</th>\n",
       "      <td>1968-07-01</td>\n",
       "      <td>1.949207</td>\n",
       "    </tr>\n",
       "    <tr>\n",
       "      <th>49</th>\n",
       "      <td>1968-08-01</td>\n",
       "      <td>1.949207</td>\n",
       "    </tr>\n",
       "  </tbody>\n",
       "</table>\n",
       "</div>"
      ],
      "text/plain": [
       "          Date     Index\n",
       "9   1968-04-01  1.885299\n",
       "19  1968-05-01  1.885299\n",
       "29  1968-06-01  1.885299\n",
       "39  1968-07-01  1.949207\n",
       "49  1968-08-01  1.949207"
      ]
     },
     "execution_count": 10,
     "metadata": {},
     "output_type": "execute_result"
    }
   ],
   "source": [
    "# we require only date and index\n",
    "df_HPI = df_HPI[['Date','Index']]\n",
    "df_HPI.head()"
   ]
  },
  {
   "cell_type": "code",
   "execution_count": 11,
   "id": "ad80d6b5",
   "metadata": {},
   "outputs": [
    {
     "data": {
      "image/png": "[encoded data removed]",
      "text/plain": [
       "<Figure size 864x288 with 1 Axes>"
      ]
     },
     "metadata": {},
     "output_type": "display_data"
    }
   ],
   "source": [
    "#plotting the UK HPI data\n",
    "sns.set_theme(style=\"darkgrid\")\n",
    "plt.figure(figsize=(12,4))\n",
    "sns.lineplot(data = df_HPI, x='Date',y='Index',err_style='bars',color='red')\n",
    "plt.title(\"UK HPI Data(1968-2022) \",fontdict={'fontsize':20})\n",
    "plt.xlabel(\"Date\")\n",
    "plt.ylabel('UK HPI')\n",
    "plt.show()"
   ]
  },
  {
   "cell_type": "code",
   "execution_count": 12,
   "id": "05511149",
   "metadata": {},
   "outputs": [
    {
     "data": {
      "text/html": [
       "<div>\n",
       "<style scoped>\n",
       "    .dataframe tbody tr th:only-of-type {\n",
       "        vertical-align: middle;\n",
       "    }\n",
       "\n",
       "    .dataframe tbody tr th {\n",
       "        vertical-align: top;\n",
       "    }\n",
       "\n",
       "    .dataframe thead th {\n",
       "        text-align: right;\n",
       "    }\n",
       "</style>\n",
       "<table border=\"1\" class=\"dataframe\">\n",
       "  <thead>\n",
       "    <tr style=\"text-align: right;\">\n",
       "      <th></th>\n",
       "      <th>Index</th>\n",
       "      <th>year</th>\n",
       "    </tr>\n",
       "  </thead>\n",
       "  <tbody>\n",
       "    <tr>\n",
       "      <th>0</th>\n",
       "      <td>1.938556</td>\n",
       "      <td>1968</td>\n",
       "    </tr>\n",
       "    <tr>\n",
       "      <th>1</th>\n",
       "      <td>2.045070</td>\n",
       "      <td>1969</td>\n",
       "    </tr>\n",
       "    <tr>\n",
       "      <th>2</th>\n",
       "      <td>2.183538</td>\n",
       "      <td>1970</td>\n",
       "    </tr>\n",
       "    <tr>\n",
       "      <th>3</th>\n",
       "      <td>2.545686</td>\n",
       "      <td>1971</td>\n",
       "    </tr>\n",
       "    <tr>\n",
       "      <th>4</th>\n",
       "      <td>3.653432</td>\n",
       "      <td>1972</td>\n",
       "    </tr>\n",
       "  </tbody>\n",
       "</table>\n",
       "</div>"
      ],
      "text/plain": [
       "      Index  year\n",
       "0  1.938556  1968\n",
       "1  2.045070  1969\n",
       "2  2.183538  1970\n",
       "3  2.545686  1971\n",
       "4  3.653432  1972"
      ]
     },
     "execution_count": 12,
     "metadata": {},
     "output_type": "execute_result"
    }
   ],
   "source": [
    "#the GDP data is yearly thus , making the HPI data to yearly data\n",
    "df_HPI['Date'] = pd.to_datetime(df_HPI['Date'])\n",
    "df_HPI.set_index('Date',inplace=True)\n",
    "df_HPI =df_HPI.resample('A').last()\n",
    "df_HPI.reset_index(inplace=True)\n",
    "df_HPI['year'] = df_HPI['Date'].dt.year\n",
    "df_HPI.drop('Date',axis=1,inplace=True)\n",
    "df_HPI.head()"
   ]
  },
  {
   "cell_type": "code",
   "execution_count": 13,
   "id": "6b84b561",
   "metadata": {},
   "outputs": [
    {
     "data": {
      "image/png": "[encoded data removed]",
      "text/plain": [
       "<Figure size 864x288 with 1 Axes>"
      ]
     },
     "metadata": {},
     "output_type": "display_data"
    }
   ],
   "source": [
    "#plotting the UK HPI data yearly\n",
    "sns.set_theme(style=\"darkgrid\")\n",
    "plt.figure(figsize=(12,4))\n",
    "sns.lineplot(data = df_HPI, x='year',y='Index',err_style='bars',color='red')\n",
    "plt.scatter(df_HPI['year'],df_HPI['Index'])\n",
    "plt.title(\"UK HPI Data(1968-2022) \",fontdict={'fontsize':20})\n",
    "plt.xlabel(\"Date\")\n",
    "plt.ylabel('UK HPI')\n",
    "plt.show()"
   ]
  },
  {
   "cell_type": "code",
   "execution_count": 14,
   "id": "53d1ad01",
   "metadata": {},
   "outputs": [
    {
     "data": {
      "image/png": "[encoded data removed]",
      "text/plain": [
       "<Figure size 720x288 with 1 Axes>"
      ]
     },
     "metadata": {},
     "output_type": "display_data"
    }
   ],
   "source": [
    "#plotting the the time series together\n",
    "\n",
    "year_lst = range(1967,2023)\n",
    "fig, ax = plt.subplots(figsize=(10, 4))\n",
    "ax.vlines([year_lst], -10, 160, linestyles='dashed', colors='red')\n",
    "sns.lineplot(data = df_HPI, x='year',y='Index',err_style='bars',color='green',ax=ax,label='UK HPI')\n",
    "plt.scatter(df_HPI['year'],df_HPI['Index'])\n",
    "sns.lineplot(data = df_gdp, x='Year',y='GDP_growth_annual%',err_style='bars',color='blue',ax=ax, label='GDP')\n",
    "plt.scatter(df_gdp['Year'],df_gdp['GDP_growth_annual%'])\n",
    "plt.title(\"UK HPI VS GDP Data(1960-2022) \",fontdict={'fontsize':20})\n",
    "plt.xlabel(\"Date\")\n",
    "plt.ylabel('UK HPI')\n",
    "plt.legend()\n",
    "plt.show()"
   ]
  },
  {
   "cell_type": "markdown",
   "id": "f776dd46",
   "metadata": {},
   "source": [
    "#### Performing Granger-Causality Test\n",
    "Source :https://rishi-a.github.io/2020/05/25/granger-causality.html<br/>\n",
    "The Granger Causality test is used to determine whether or not one time series is useful for forecasting another.\n",
    "This test uses the following null and alternative hypotheses:\n",
    "\n",
    "<B>Null Hypothesis (H0): Time series GDP does not Granger-cause time series HPI<B/>\n",
    "\n",
    "<B>Alternative Hypothesis (HA): Time series GDP Granger-causes time series HPI<B/>\n",
    "    \n",
    "The term “Granger-causes” means that knowing the value of time series x at a certain lag is useful for predicting the value of time series y at a later time period.This test produces an F test statistic with a corresponding p-value. If the p-value is less than a certain significance level (i.e. α = .05), then we can reject the null hypothesis and conclude that we have sufficient evidence to say that time series x Granger-causes time series y."
   ]
  },
  {
   "cell_type": "code",
   "execution_count": 16,
   "id": "d46960ef",
   "metadata": {},
   "outputs": [
    {
     "data": {
      "text/html": [
       "<div>\n",
       "<style scoped>\n",
       "    .dataframe tbody tr th:only-of-type {\n",
       "        vertical-align: middle;\n",
       "    }\n",
       "\n",
       "    .dataframe tbody tr th {\n",
       "        vertical-align: top;\n",
       "    }\n",
       "\n",
       "    .dataframe thead th {\n",
       "        text-align: right;\n",
       "    }\n",
       "</style>\n",
       "<table border=\"1\" class=\"dataframe\">\n",
       "  <thead>\n",
       "    <tr style=\"text-align: right;\">\n",
       "      <th></th>\n",
       "      <th>GDP</th>\n",
       "      <th>HPI</th>\n",
       "    </tr>\n",
       "    <tr>\n",
       "      <th>Year</th>\n",
       "      <th></th>\n",
       "      <th></th>\n",
       "    </tr>\n",
       "  </thead>\n",
       "  <tbody>\n",
       "    <tr>\n",
       "      <th>1968</th>\n",
       "      <td>5.441083</td>\n",
       "      <td>1.938556</td>\n",
       "    </tr>\n",
       "    <tr>\n",
       "      <th>1969</th>\n",
       "      <td>1.924097</td>\n",
       "      <td>2.045070</td>\n",
       "    </tr>\n",
       "    <tr>\n",
       "      <th>1970</th>\n",
       "      <td>6.317907</td>\n",
       "      <td>2.183538</td>\n",
       "    </tr>\n",
       "    <tr>\n",
       "      <th>1971</th>\n",
       "      <td>3.504717</td>\n",
       "      <td>2.545686</td>\n",
       "    </tr>\n",
       "    <tr>\n",
       "      <th>1972</th>\n",
       "      <td>4.321668</td>\n",
       "      <td>3.653432</td>\n",
       "    </tr>\n",
       "  </tbody>\n",
       "</table>\n",
       "</div>"
      ],
      "text/plain": [
       "           GDP       HPI\n",
       "Year                    \n",
       "1968  5.441083  1.938556\n",
       "1969  1.924097  2.045070\n",
       "1970  6.317907  2.183538\n",
       "1971  3.504717  2.545686\n",
       "1972  4.321668  3.653432"
      ]
     },
     "execution_count": 16,
     "metadata": {},
     "output_type": "execute_result"
    }
   ],
   "source": [
    "df_all = pd.DataFrame()\n",
    "df_all[['Year','GDP']] = df_gdp[['Year','GDP_growth_annual%']]\n",
    "df_all['HPI']=df_HPI[['Index']]\n",
    "df_all.set_index('Year',inplace=True)\n",
    "df_all.head()"
   ]
  },
  {
   "cell_type": "markdown",
   "id": "e04193a5",
   "metadata": {},
   "source": [
    "Step 1: Test each of the time-series to determine their order of integration. Ideally, this should involve using a test (such as the ADF test) for which the null hypothesis is non-stationarity."
   ]
  },
  {
   "cell_type": "code",
   "execution_count": 17,
   "id": "0526b32f",
   "metadata": {},
   "outputs": [
    {
     "name": "stderr",
     "output_type": "stream",
     "text": [
      "*c* argument looks like a single numeric RGB or RGBA sequence, which should be avoided as value-mapping will have precedence in case its length matches with *x* & *y*.  Please use the *color* keyword-argument or provide a 2D array with a single row if you intend to specify the same RGB or RGBA value for all points.\n",
      "*c* argument looks like a single numeric RGB or RGBA sequence, which should be avoided as value-mapping will have precedence in case its length matches with *x* & *y*.  Please use the *color* keyword-argument or provide a 2D array with a single row if you intend to specify the same RGB or RGBA value for all points.\n"
     ]
    },
    {
     "data": {
      "image/png": "[encoded data removed]",
      "text/plain": [
       "<Figure size 648x216 with 2 Axes>"
      ]
     },
     "metadata": {},
     "output_type": "display_data"
    }
   ],
   "source": [
    "#plotting the lag_plots for GDP and HPI\n",
    "fig,axes = plt.subplots(1, 2, figsize=(9, 3))\n",
    "fig.tight_layout()\n",
    "lag_plot(df_all['GDP'], ax=axes[0])\n",
    "axes[0].set_title('GDP')\n",
    "lag_plot(df_all['HPI'], ax=axes[1])\n",
    "axes[1].set_title('HPI')\n",
    "plt.show()"
   ]
  },
  {
   "cell_type": "markdown",
   "id": "95250167",
   "metadata": {},
   "source": [
    "HPI chart shows high autocorrelation while GDP data shows low autocorrelation."
   ]
  },
  {
   "cell_type": "code",
   "execution_count": 18,
   "id": "8a0338d8",
   "metadata": {},
   "outputs": [
    {
     "data": {
      "text/html": [
       "<div>\n",
       "<style scoped>\n",
       "    .dataframe tbody tr th:only-of-type {\n",
       "        vertical-align: middle;\n",
       "    }\n",
       "\n",
       "    .dataframe tbody tr th {\n",
       "        vertical-align: top;\n",
       "    }\n",
       "\n",
       "    .dataframe thead th {\n",
       "        text-align: right;\n",
       "    }\n",
       "</style>\n",
       "<table border=\"1\" class=\"dataframe\">\n",
       "  <thead>\n",
       "    <tr style=\"text-align: right;\">\n",
       "      <th></th>\n",
       "      <th>GDP</th>\n",
       "      <th>HPI</th>\n",
       "    </tr>\n",
       "    <tr>\n",
       "      <th>Year</th>\n",
       "      <th></th>\n",
       "      <th></th>\n",
       "    </tr>\n",
       "  </thead>\n",
       "  <tbody>\n",
       "    <tr>\n",
       "      <th>1969</th>\n",
       "      <td>-3.516987</td>\n",
       "      <td>0.106514</td>\n",
       "    </tr>\n",
       "    <tr>\n",
       "      <th>1970</th>\n",
       "      <td>4.393810</td>\n",
       "      <td>0.138468</td>\n",
       "    </tr>\n",
       "    <tr>\n",
       "      <th>1971</th>\n",
       "      <td>-2.813189</td>\n",
       "      <td>0.362148</td>\n",
       "    </tr>\n",
       "    <tr>\n",
       "      <th>1972</th>\n",
       "      <td>0.816950</td>\n",
       "      <td>1.107746</td>\n",
       "    </tr>\n",
       "    <tr>\n",
       "      <th>1973</th>\n",
       "      <td>2.202181</td>\n",
       "      <td>0.958627</td>\n",
       "    </tr>\n",
       "  </tbody>\n",
       "</table>\n",
       "</div>"
      ],
      "text/plain": [
       "           GDP       HPI\n",
       "Year                    \n",
       "1969 -3.516987  0.106514\n",
       "1970  4.393810  0.138468\n",
       "1971 -2.813189  0.362148\n",
       "1972  0.816950  1.107746\n",
       "1973  2.202181  0.958627"
      ]
     },
     "execution_count": 18,
     "metadata": {},
     "output_type": "execute_result"
    }
   ],
   "source": [
    "# differencing the data\n",
    "df1 = df_all.copy()\n",
    "df_all['GDP'] = df_all['GDP']- df_all['GDP'].shift(1)\n",
    "df_all['HPI'] = df_all['HPI']- df_all['HPI'].shift(1)\n",
    "df_all = df_all.dropna()\n",
    "df_all.head()"
   ]
  },
  {
   "cell_type": "code",
   "execution_count": 19,
   "id": "d1270867",
   "metadata": {},
   "outputs": [],
   "source": [
    "#defining a function for dicky fuller test\n",
    "def adfuller_test(columns):\n",
    "    result=adfuller(columns)\n",
    "    labels = ['ADF Test Statistic','p-value','#Lags Used','Number of Observations Used']\n",
    "    for value,label in zip(result,labels):\n",
    "        print(label+' : '+str(value) )\n",
    "    if result[1] <= 0.05:\n",
    "        print(\"strong evidence against the null hypothesis(Ho), reject the null hypothesis. Data has no unit root and is stationary\")\n",
    "    else:\n",
    "        print(\"weak evidence against null hypothesis, time series has a unit root, indicating it is non-stationary \")"
   ]
  },
  {
   "cell_type": "code",
   "execution_count": 20,
   "id": "0c7fb0f0",
   "metadata": {},
   "outputs": [
    {
     "name": "stdout",
     "output_type": "stream",
     "text": [
      "ADF Test Statistic : -4.512369900633507\n",
      "p-value : 0.00018676364320925417\n",
      "#Lags Used : 9\n",
      "Number of Observations Used : 43\n",
      "strong evidence against the null hypothesis(Ho), reject the null hypothesis. Data has no unit root and is stationary\n"
     ]
    }
   ],
   "source": [
    "adfuller_test(df_all['GDP'])"
   ]
  },
  {
   "cell_type": "code",
   "execution_count": 21,
   "id": "0c1a010b",
   "metadata": {},
   "outputs": [
    {
     "name": "stdout",
     "output_type": "stream",
     "text": [
      "ADF Test Statistic : -5.084360078035213\n",
      "p-value : 1.5070484798456902e-05\n",
      "#Lags Used : 0\n",
      "Number of Observations Used : 52\n",
      "strong evidence against the null hypothesis(Ho), reject the null hypothesis. Data has no unit root and is stationary\n"
     ]
    }
   ],
   "source": [
    "adfuller_test(df_all['HPI'])"
   ]
  },
  {
   "cell_type": "markdown",
   "id": "90e7bf6c",
   "metadata": {},
   "source": [
    "### We can see from above tests that ADF Null Hypothesis is rejected: thus data is stationary."
   ]
  },
  {
   "cell_type": "code",
   "execution_count": 22,
   "id": "62f6dc0e",
   "metadata": {},
   "outputs": [
    {
     "name": "stderr",
     "output_type": "stream",
     "text": [
      "*c* argument looks like a single numeric RGB or RGBA sequence, which should be avoided as value-mapping will have precedence in case its length matches with *x* & *y*.  Please use the *color* keyword-argument or provide a 2D array with a single row if you intend to specify the same RGB or RGBA value for all points.\n",
      "*c* argument looks like a single numeric RGB or RGBA sequence, which should be avoided as value-mapping will have precedence in case its length matches with *x* & *y*.  Please use the *color* keyword-argument or provide a 2D array with a single row if you intend to specify the same RGB or RGBA value for all points.\n"
     ]
    },
    {
     "data": {
      "image/png": "[encoded data removed]",
      "text/plain": [
       "<Figure size 648x216 with 2 Axes>"
      ]
     },
     "metadata": {},
     "output_type": "display_data"
    }
   ],
   "source": [
    "#plotting the lag_plots for GDP and HPI\n",
    "fig,axes = plt.subplots(1, 2, figsize=(9, 3))\n",
    "fig.tight_layout()\n",
    "lag_plot(df_all['GDP'], ax=axes[0])\n",
    "axes[0].set_title('GDP')\n",
    "lag_plot(df_all['HPI'], ax=axes[1])\n",
    "axes[1].set_title('HPI')\n",
    "plt.show()"
   ]
  },
  {
   "cell_type": "markdown",
   "id": "38bfbe5f",
   "metadata": {},
   "source": [
    "Moreover , the above lag plots give confirmation that the data is stationary"
   ]
  },
  {
   "cell_type": "markdown",
   "id": "bf651e5d",
   "metadata": {},
   "source": [
    "Step 2: Let the maximum order of integration for the group of time-series be m. So, if there are two time-series and one is found to be I(1) and the other is I(2), then m = 2. If one is I(0) and the other is I(1), then m = 1, etc.\n",
    "Result: We saw above that for our case m = 1\n",
    "\n",
    "Step 3: Set up a VAR model in the levels of the data, regardless of the orders of integration of the various time-series. Most importantly, you must not difference the data, no matter what you found at Step 1.//\n",
    "\n",
    "Step 4: Determine the appropriate maximum lag length for the variables in the VAR, say p, using the usual methods. Specifically, base the choice of p on the usual information criteria, such as AIC, SIC."
   ]
  },
  {
   "cell_type": "code",
   "execution_count": 23,
   "id": "af360b7d",
   "metadata": {},
   "outputs": [
    {
     "name": "stdout",
     "output_type": "stream",
     "text": [
      "Lag Order = 1\n",
      "AIC :  4.825197886745501\n",
      "BIC :  5.048249801487251\n",
      "Lag Order = 2\n",
      "AIC :  4.760587960142102\n",
      "BIC :  5.1358271367923765\n",
      "Lag Order = 3\n",
      "AIC :  4.8534926492038375\n",
      "BIC :  5.383797724853652\n",
      "Lag Order = 4\n",
      "AIC :  4.965558476541121\n",
      "BIC :  5.653886758495254\n",
      "Lag Order = 5\n",
      "AIC :  5.112877293516746\n",
      "BIC :  5.962265998790905\n",
      "Lag Order = 6\n",
      "AIC :  5.211353535917137\n",
      "BIC :  6.224920750158912\n",
      "Lag Order = 7\n",
      "AIC :  5.174388548711999\n",
      "BIC :  6.355333826399271\n",
      "Lag Order = 8\n",
      "AIC :  5.312771034518859\n",
      "BIC :  6.664375544967321\n",
      "Lag Order = 9\n",
      "AIC :  5.444010399509371\n",
      "BIC :  6.969636501982086\n",
      "Lag Order = 10\n",
      "AIC :  5.606647424386285\n",
      "BIC :  7.309737529490079\n",
      "Lag Order = 11\n",
      "AIC :  5.4534257273435784\n",
      "BIC :  7.337500269713436\n",
      "Lag Order = 12\n",
      "AIC :  5.537390410971767\n",
      "BIC :  7.606044718451967\n"
     ]
    }
   ],
   "source": [
    "# applying VAR model and finding the AIC, BIC\n",
    "df1 = df1.dropna()\n",
    "model = VAR(df1) #recall that rawData is w/o difference operation\n",
    "for i in range(1,13):\n",
    "    result = model.fit(i)\n",
    "    try:\n",
    "        print('Lag Order =', i)\n",
    "        print('AIC : ', result.aic)\n",
    "        print('BIC : ', result.bic)\n",
    "        \n",
    "    except:\n",
    "        continue"
   ]
  },
  {
   "cell_type": "markdown",
   "id": "cae46657",
   "metadata": {},
   "source": [
    "Result: The lag-order p = 2 on the basis of Akaike Information Criterion (AIC)"
   ]
  },
  {
   "cell_type": "code",
   "execution_count": 24,
   "id": "7f188503",
   "metadata": {},
   "outputs": [
    {
     "name": "stdout",
     "output_type": "stream",
     "text": [
      "\n",
      "Granger Causality\n",
      "number of lags (no zero) 2\n",
      "ssr based F test:         F=7.5527  , p=0.0014  , df_denom=47, df_num=2\n",
      "ssr based chi2 test:   chi2=16.7123 , p=0.0002  , df=2\n",
      "likelihood ratio test: chi2=14.4916 , p=0.0007  , df=2\n",
      "parameter F test:         F=7.5527  , p=0.0014  , df_denom=47, df_num=2\n"
     ]
    },
    {
     "data": {
      "text/plain": [
       "{2: ({'ssr_ftest': (7.552668462966429, 0.001431429587194122, 47.0, 2),\n",
       "   'ssr_chi2test': (16.712287662734227, 0.00023494859055053405, 2),\n",
       "   'lrtest': (14.491584867393414, 0.000713168789823195, 2),\n",
       "   'params_ftest': (7.552668462966302, 0.0014314295871942601, 47.0, 2.0)},\n",
       "  [<statsmodels.regression.linear_model.RegressionResultsWrapper at 0x1f39b7856a0>,\n",
       "   <statsmodels.regression.linear_model.RegressionResultsWrapper at 0x1f39b1a5c70>,\n",
       "   array([[0., 0., 1., 0., 0.],\n",
       "          [0., 0., 0., 1., 0.]])])}"
      ]
     },
     "execution_count": 24,
     "metadata": {},
     "output_type": "execute_result"
    }
   ],
   "source": [
    "#perform Granger-Causality test\n",
    "grangercausalitytests(df1[['GDP', 'HPI']], maxlag=[2])"
   ]
  },
  {
   "cell_type": "markdown",
   "id": "1868f440",
   "metadata": {},
   "source": [
    "The F test statistic turns out to be 4.4719 and the corresponding p-value is 0.0168.Since the p-value is less than .05,we can reject the null hypothesis of the test and <b>conclude that knowing the GDP is useful for predicting the future HPI.</b>"
   ]
  }
 ],
 "metadata": {
  "kernelspec": {
   "display_name": "Python 3 (ipykernel)",
   "language": "python",
   "name": "python3"
  },
  "language_info": {
   "codemirror_mode": {
    "name": "ipython",
    "version": 3
   },
   "file_extension": ".py",
   "mimetype": "text/x-python",
   "name": "python",
   "nbconvert_exporter": "python",
   "pygments_lexer": "ipython3",
   "version": "3.9.7"
  }
 },
 "nbformat": 4,
 "nbformat_minor": 5
}
